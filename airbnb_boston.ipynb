{
 "cells": [
  {
   "cell_type": "markdown",
   "metadata": {},
   "source": [
    "# Analyze Boston's Airbnb dataset\n",
    "## The dataset describe the airbnb's listings activity in Boston it includes 3 separate files:\n",
    "### Calendar: including listing id and the price and availability for that day\n",
    "### Listings: including full descriptions and average review score\n",
    "### Reviews: including unique id for each reviewer and detailed comments\n",
    "### Data source: https://www.kaggle.com/airbnb/boston"
   ]
  },
  {
   "cell_type": "markdown",
   "metadata": {},
   "source": [
    "## In this notebook we try to explore and better understand airbnb listings in Boston.\n",
    "## We mainly target to answer 3 main questions:\n",
    "#### **What is the average availability by season? Does the price change by season?**\n",
    "#### **Can we predict listing price? What are the main factors influencing a listing price?**\n",
    "#### **Are super hosts less likely to get negative reviews than regular hosts?**"
   ]
  },
  {
   "cell_type": "code",
   "execution_count": 1,
   "metadata": {},
   "outputs": [],
   "source": [
    "# Importing libraries\n",
    "# Uncomment to install libraries if missing\n",
    "# !pip3 install flair\n",
    "# !pip3 install xgboost\n",
    "# !pip install torch===1.7.1 torchvision===0.8.2 torchaudio===0.7.2 -f https://download.pytorch.org/whl/torch_stable.html\n",
    "import pandas as pd\n",
    "import numpy as np\n",
    "import flair\n",
    "import torch\n",
    "import matplotlib as plt\n",
    "from sklearn.model_selection import train_test_split\n",
    "from sklearn.metrics import mean_squared_error\n",
    "import xgboost as xgb"
   ]
  },
  {
   "cell_type": "code",
   "execution_count": 2,
   "metadata": {},
   "outputs": [
    {
     "name": "stdout",
     "output_type": "stream",
     "text": [
      "GPU\n"
     ]
    }
   ],
   "source": [
    "#Check if Cuda GPU is available otherwise use CPU\n",
    "if torch.cuda.is_available():\n",
    "    flair.device = torch.device('cuda:0')\n",
    "    print('GPU')\n",
    "else:\n",
    "    flair.device = torch.device('cpu')\n",
    "    print('CPU')"
   ]
  },
  {
   "cell_type": "code",
   "execution_count": 3,
   "metadata": {},
   "outputs": [
    {
     "name": "stdout",
     "output_type": "stream",
     "text": [
      "2021-01-01 12:15:16,968 loading file C:\\Users\\johng\\.flair\\models\\sentiment-en-mix-distillbert_3.1.pt\n"
     ]
    }
   ],
   "source": [
    "# Get flair sentiment analysis pre-trained model\n",
    "flair_sentiment = flair.models.TextClassifier.load('en-sentiment')"
   ]
  },
  {
   "cell_type": "code",
   "execution_count": 4,
   "metadata": {},
   "outputs": [],
   "source": [
    "# Questions to answer from the data:\n",
    "# What is the average availability by season? Does the price change by season?\n",
    "# Can we predict listing price? What are the main factors influencing a listing price?\n",
    "# Are super hosts less likely to get negative reviews than regular hosts?"
   ]
  },
  {
   "cell_type": "code",
   "execution_count": 5,
   "metadata": {},
   "outputs": [
    {
     "name": "stdout",
     "output_type": "stream",
     "text": [
      "boston_calendar_df shape: (1308890, 4)\n",
      "boston_listings_df shape: (3585, 95)\n",
      "boston_reviews_df shape: (68275, 6)\n"
     ]
    }
   ],
   "source": [
    "# Directory where data is stored\n",
    "path = \"C:\\\\Users\\\\johng\\\\Documents\\\\udacity_ds_degree\\\\\"\n",
    "# Calendar, including listing id and the price and availability for that day\n",
    "boston_calendar_df = pd.read_csv(path+\"boston_airbnb\\\\calendar.csv\",error_bad_lines=False)\n",
    "print(\"boston_calendar_df shape: \"+str(boston_calendar_df.shape))\n",
    "# Listings, including full descriptions and average review score\n",
    "boston_listings_df = pd.read_csv(path+\"boston_airbnb\\\\listings.csv\",error_bad_lines=False)\n",
    "print(\"boston_listings_df shape: \"+str(boston_listings_df.shape))\n",
    "# Reviews, including unique id for each reviewer and detailed comments\n",
    "boston_reviews_df = pd.read_csv(path+\"boston_airbnb\\\\reviews.csv\",error_bad_lines=False)\n",
    "print(\"boston_reviews_df shape: \"+str(boston_reviews_df.shape))"
   ]
  },
  {
   "cell_type": "code",
   "execution_count": 6,
   "metadata": {},
   "outputs": [],
   "source": [
    "def get_value(sentence):\n",
    "    \"\"\"\n",
    "    Function that applies sentiment analysis model on a sentence and returns a psoitive/negative answer\n",
    "    \"\"\"\n",
    "    try:\n",
    "        s = flair.data.Sentence(sentence)\n",
    "        flair_sentiment.predict(s)\n",
    "        return s.labels[0].value\n",
    "    except:\n",
    "        return np.nan\n",
    "\n",
    "def get_score(sentence):\n",
    "    \"\"\"\n",
    "    Function that applies sentiment analysis model on a sentence and returns a sentiment score\n",
    "    \"\"\"\n",
    "    try:\n",
    "        s = flair.data.Sentence(sentence)\n",
    "        flair_sentiment.predict(s)\n",
    "        return np.round(s.labels[0].score,2)\n",
    "    except:\n",
    "        return np.nan"
   ]
  },
  {
   "cell_type": "code",
   "execution_count": 7,
   "metadata": {},
   "outputs": [
    {
     "name": "stdout",
     "output_type": "stream",
     "text": [
      "winter\n"
     ]
    }
   ],
   "source": [
    "# Logic to convert date to a season\n",
    "# Source:\n",
    "# https://stackoverflow.com/questions/16139306/determine-season-given-timestamp-in-python-using-datetime\n",
    "from datetime import date, datetime\n",
    "\n",
    "Y = 2000 # dummy leap year to allow input X-02-29 (leap day)\n",
    "seasons = [('winter', (date(Y,  1,  1),  date(Y,  3, 20))),\n",
    "           ('spring', (date(Y,  3, 21),  date(Y,  6, 20))),\n",
    "           ('summer', (date(Y,  6, 21),  date(Y,  9, 22))),\n",
    "           ('autumn', (date(Y,  9, 23),  date(Y, 12, 20))),\n",
    "           ('winter', (date(Y, 12, 21),  date(Y, 12, 31)))]\n",
    "\n",
    "def get_season(now):\n",
    "    \"\"\"\n",
    "    Function that takes a date as parameter and return a string representing the season (winter, spring, summer, autumn)\n",
    "    \"\"\"\n",
    "    if isinstance(now, datetime):\n",
    "        now = now.date()\n",
    "    now = now.replace(year=Y)\n",
    "    return next(season for season, (start, end) in seasons\n",
    "                if start <= now <= end)\n",
    "# Testing the logic\n",
    "print(get_season(date.today()))"
   ]
  },
  {
   "cell_type": "markdown",
   "metadata": {},
   "source": [
    "### Data preprocessing and cleaning"
   ]
  },
  {
   "cell_type": "markdown",
   "metadata": {},
   "source": [
    "#### Converting strings into dates to be able to calculate the season"
   ]
  },
  {
   "cell_type": "code",
   "execution_count": 8,
   "metadata": {},
   "outputs": [],
   "source": [
    "# Converting strings to datetime\n",
    "boston_reviews_df['date_dt'] = pd.to_datetime(boston_reviews_df['date'], format = '%Y-%m-%d')\n",
    "boston_calendar_df['date_dt'] = pd.to_datetime(boston_calendar_df['date'], format = '%Y-%m-%d')"
   ]
  },
  {
   "cell_type": "markdown",
   "metadata": {},
   "source": [
    "#### Calculating the season based on the date column"
   ]
  },
  {
   "cell_type": "code",
   "execution_count": 9,
   "metadata": {},
   "outputs": [],
   "source": [
    "# Converting strings to datetime\n",
    "boston_reviews_df['season'] = boston_reviews_df['date_dt'].apply(get_season)\n",
    "boston_calendar_df['season'] = boston_calendar_df['date_dt'].apply(get_season)"
   ]
  },
  {
   "cell_type": "markdown",
   "metadata": {},
   "source": [
    "#### Cleaning up the price column removing any commas or dollar sign, then converting into int"
   ]
  },
  {
   "cell_type": "code",
   "execution_count": 10,
   "metadata": {},
   "outputs": [],
   "source": [
    "# Converting strings to int\n",
    "boston_calendar_df['price'] = boston_calendar_df['price'].str.replace('$','')\n",
    "boston_calendar_df['price'] = boston_calendar_df['price'].str.replace(',','')\n",
    "boston_calendar_df['price'] = pd.to_numeric(boston_calendar_df['price'])"
   ]
  },
  {
   "cell_type": "markdown",
   "metadata": {},
   "source": [
    "#### Converting string to boolean, to be able to calculate some basic statistics like mean and sum"
   ]
  },
  {
   "cell_type": "code",
   "execution_count": 11,
   "metadata": {},
   "outputs": [],
   "source": [
    "# Calculate availability\n",
    "# Converting strings to bool\n",
    "boston_calendar_df['available'] = boston_calendar_df['available'].apply(lambda x:True if x==\"t\" else False)\n",
    "boston_calendar_df['available'] = boston_calendar_df['available'].astype('bool')"
   ]
  },
  {
   "cell_type": "markdown",
   "metadata": {},
   "source": [
    "#### Calculating neighberhood description sentiment using the flair sentiment analysis pre-trained model"
   ]
  },
  {
   "cell_type": "code",
   "execution_count": 12,
   "metadata": {},
   "outputs": [],
   "source": [
    "boston_listings_df['neighborhood_overview_senti_value'] = boston_listings_df['neighborhood_overview'].apply(get_value)"
   ]
  },
  {
   "cell_type": "code",
   "execution_count": 13,
   "metadata": {},
   "outputs": [
    {
     "data": {
      "text/plain": [
       "POSITIVE    2148\n",
       "NEGATIVE      22\n",
       "Name: neighborhood_overview_senti_value, dtype: int64"
      ]
     },
     "execution_count": 13,
     "metadata": {},
     "output_type": "execute_result"
    }
   ],
   "source": [
    "boston_listings_df['neighborhood_overview_senti_value'].value_counts()"
   ]
  },
  {
   "cell_type": "code",
   "execution_count": 14,
   "metadata": {},
   "outputs": [
    {
     "data": {
      "text/html": [
       "<div>\n",
       "<style scoped>\n",
       "    .dataframe tbody tr th:only-of-type {\n",
       "        vertical-align: middle;\n",
       "    }\n",
       "\n",
       "    .dataframe tbody tr th {\n",
       "        vertical-align: top;\n",
       "    }\n",
       "\n",
       "    .dataframe thead th {\n",
       "        text-align: right;\n",
       "    }\n",
       "</style>\n",
       "<table border=\"1\" class=\"dataframe\">\n",
       "  <thead>\n",
       "    <tr style=\"text-align: right;\">\n",
       "      <th></th>\n",
       "      <th>id</th>\n",
       "      <th>scrape_id</th>\n",
       "      <th>host_id</th>\n",
       "      <th>host_listings_count</th>\n",
       "      <th>host_total_listings_count</th>\n",
       "      <th>neighbourhood_group_cleansed</th>\n",
       "      <th>latitude</th>\n",
       "      <th>longitude</th>\n",
       "      <th>accommodates</th>\n",
       "      <th>bathrooms</th>\n",
       "      <th>...</th>\n",
       "      <th>review_scores_accuracy</th>\n",
       "      <th>review_scores_cleanliness</th>\n",
       "      <th>review_scores_checkin</th>\n",
       "      <th>review_scores_communication</th>\n",
       "      <th>review_scores_location</th>\n",
       "      <th>review_scores_value</th>\n",
       "      <th>license</th>\n",
       "      <th>jurisdiction_names</th>\n",
       "      <th>calculated_host_listings_count</th>\n",
       "      <th>reviews_per_month</th>\n",
       "    </tr>\n",
       "  </thead>\n",
       "  <tbody>\n",
       "    <tr>\n",
       "      <th>count</th>\n",
       "      <td>3.585000e+03</td>\n",
       "      <td>3.585000e+03</td>\n",
       "      <td>3.585000e+03</td>\n",
       "      <td>3585.000000</td>\n",
       "      <td>3585.000000</td>\n",
       "      <td>0.0</td>\n",
       "      <td>3585.000000</td>\n",
       "      <td>3585.000000</td>\n",
       "      <td>3585.000000</td>\n",
       "      <td>3571.000000</td>\n",
       "      <td>...</td>\n",
       "      <td>2762.000000</td>\n",
       "      <td>2767.000000</td>\n",
       "      <td>2765.000000</td>\n",
       "      <td>2767.000000</td>\n",
       "      <td>2763.000000</td>\n",
       "      <td>2764.000000</td>\n",
       "      <td>0.0</td>\n",
       "      <td>0.0</td>\n",
       "      <td>3585.000000</td>\n",
       "      <td>2829.000000</td>\n",
       "    </tr>\n",
       "    <tr>\n",
       "      <th>mean</th>\n",
       "      <td>8.440875e+06</td>\n",
       "      <td>2.016091e+13</td>\n",
       "      <td>2.492311e+07</td>\n",
       "      <td>58.902371</td>\n",
       "      <td>58.902371</td>\n",
       "      <td>NaN</td>\n",
       "      <td>42.340032</td>\n",
       "      <td>-71.084818</td>\n",
       "      <td>3.041283</td>\n",
       "      <td>1.221647</td>\n",
       "      <td>...</td>\n",
       "      <td>9.431571</td>\n",
       "      <td>9.258041</td>\n",
       "      <td>9.646293</td>\n",
       "      <td>9.646549</td>\n",
       "      <td>9.414043</td>\n",
       "      <td>9.168234</td>\n",
       "      <td>NaN</td>\n",
       "      <td>NaN</td>\n",
       "      <td>12.733891</td>\n",
       "      <td>1.970908</td>\n",
       "    </tr>\n",
       "    <tr>\n",
       "      <th>std</th>\n",
       "      <td>4.500787e+06</td>\n",
       "      <td>0.000000e+00</td>\n",
       "      <td>2.292781e+07</td>\n",
       "      <td>171.119663</td>\n",
       "      <td>171.119663</td>\n",
       "      <td>NaN</td>\n",
       "      <td>0.024403</td>\n",
       "      <td>0.031565</td>\n",
       "      <td>1.778929</td>\n",
       "      <td>0.501487</td>\n",
       "      <td>...</td>\n",
       "      <td>0.931863</td>\n",
       "      <td>1.168977</td>\n",
       "      <td>0.762753</td>\n",
       "      <td>0.735507</td>\n",
       "      <td>0.903436</td>\n",
       "      <td>1.011116</td>\n",
       "      <td>NaN</td>\n",
       "      <td>NaN</td>\n",
       "      <td>29.415076</td>\n",
       "      <td>2.120561</td>\n",
       "    </tr>\n",
       "    <tr>\n",
       "      <th>min</th>\n",
       "      <td>3.353000e+03</td>\n",
       "      <td>2.016091e+13</td>\n",
       "      <td>4.240000e+03</td>\n",
       "      <td>0.000000</td>\n",
       "      <td>0.000000</td>\n",
       "      <td>NaN</td>\n",
       "      <td>42.235942</td>\n",
       "      <td>-71.171789</td>\n",
       "      <td>1.000000</td>\n",
       "      <td>0.000000</td>\n",
       "      <td>...</td>\n",
       "      <td>2.000000</td>\n",
       "      <td>2.000000</td>\n",
       "      <td>2.000000</td>\n",
       "      <td>4.000000</td>\n",
       "      <td>2.000000</td>\n",
       "      <td>2.000000</td>\n",
       "      <td>NaN</td>\n",
       "      <td>NaN</td>\n",
       "      <td>1.000000</td>\n",
       "      <td>0.010000</td>\n",
       "    </tr>\n",
       "    <tr>\n",
       "      <th>25%</th>\n",
       "      <td>4.679319e+06</td>\n",
       "      <td>2.016091e+13</td>\n",
       "      <td>6.103425e+06</td>\n",
       "      <td>1.000000</td>\n",
       "      <td>1.000000</td>\n",
       "      <td>NaN</td>\n",
       "      <td>42.329995</td>\n",
       "      <td>-71.105083</td>\n",
       "      <td>2.000000</td>\n",
       "      <td>1.000000</td>\n",
       "      <td>...</td>\n",
       "      <td>9.000000</td>\n",
       "      <td>9.000000</td>\n",
       "      <td>9.000000</td>\n",
       "      <td>9.000000</td>\n",
       "      <td>9.000000</td>\n",
       "      <td>9.000000</td>\n",
       "      <td>NaN</td>\n",
       "      <td>NaN</td>\n",
       "      <td>1.000000</td>\n",
       "      <td>0.480000</td>\n",
       "    </tr>\n",
       "    <tr>\n",
       "      <th>50%</th>\n",
       "      <td>8.577620e+06</td>\n",
       "      <td>2.016091e+13</td>\n",
       "      <td>1.928100e+07</td>\n",
       "      <td>2.000000</td>\n",
       "      <td>2.000000</td>\n",
       "      <td>NaN</td>\n",
       "      <td>42.345201</td>\n",
       "      <td>-71.078429</td>\n",
       "      <td>2.000000</td>\n",
       "      <td>1.000000</td>\n",
       "      <td>...</td>\n",
       "      <td>10.000000</td>\n",
       "      <td>10.000000</td>\n",
       "      <td>10.000000</td>\n",
       "      <td>10.000000</td>\n",
       "      <td>10.000000</td>\n",
       "      <td>9.000000</td>\n",
       "      <td>NaN</td>\n",
       "      <td>NaN</td>\n",
       "      <td>2.000000</td>\n",
       "      <td>1.170000</td>\n",
       "    </tr>\n",
       "    <tr>\n",
       "      <th>75%</th>\n",
       "      <td>1.278953e+07</td>\n",
       "      <td>2.016091e+13</td>\n",
       "      <td>3.622147e+07</td>\n",
       "      <td>7.000000</td>\n",
       "      <td>7.000000</td>\n",
       "      <td>NaN</td>\n",
       "      <td>42.354685</td>\n",
       "      <td>-71.062155</td>\n",
       "      <td>4.000000</td>\n",
       "      <td>1.000000</td>\n",
       "      <td>...</td>\n",
       "      <td>10.000000</td>\n",
       "      <td>10.000000</td>\n",
       "      <td>10.000000</td>\n",
       "      <td>10.000000</td>\n",
       "      <td>10.000000</td>\n",
       "      <td>10.000000</td>\n",
       "      <td>NaN</td>\n",
       "      <td>NaN</td>\n",
       "      <td>6.000000</td>\n",
       "      <td>2.720000</td>\n",
       "    </tr>\n",
       "    <tr>\n",
       "      <th>max</th>\n",
       "      <td>1.493346e+07</td>\n",
       "      <td>2.016091e+13</td>\n",
       "      <td>9.385411e+07</td>\n",
       "      <td>749.000000</td>\n",
       "      <td>749.000000</td>\n",
       "      <td>NaN</td>\n",
       "      <td>42.389982</td>\n",
       "      <td>-71.000100</td>\n",
       "      <td>16.000000</td>\n",
       "      <td>6.000000</td>\n",
       "      <td>...</td>\n",
       "      <td>10.000000</td>\n",
       "      <td>10.000000</td>\n",
       "      <td>10.000000</td>\n",
       "      <td>10.000000</td>\n",
       "      <td>10.000000</td>\n",
       "      <td>10.000000</td>\n",
       "      <td>NaN</td>\n",
       "      <td>NaN</td>\n",
       "      <td>136.000000</td>\n",
       "      <td>19.150000</td>\n",
       "    </tr>\n",
       "  </tbody>\n",
       "</table>\n",
       "<p>8 rows × 33 columns</p>\n",
       "</div>"
      ],
      "text/plain": [
       "                 id     scrape_id       host_id  host_listings_count  \\\n",
       "count  3.585000e+03  3.585000e+03  3.585000e+03          3585.000000   \n",
       "mean   8.440875e+06  2.016091e+13  2.492311e+07            58.902371   \n",
       "std    4.500787e+06  0.000000e+00  2.292781e+07           171.119663   \n",
       "min    3.353000e+03  2.016091e+13  4.240000e+03             0.000000   \n",
       "25%    4.679319e+06  2.016091e+13  6.103425e+06             1.000000   \n",
       "50%    8.577620e+06  2.016091e+13  1.928100e+07             2.000000   \n",
       "75%    1.278953e+07  2.016091e+13  3.622147e+07             7.000000   \n",
       "max    1.493346e+07  2.016091e+13  9.385411e+07           749.000000   \n",
       "\n",
       "       host_total_listings_count  neighbourhood_group_cleansed     latitude  \\\n",
       "count                3585.000000                           0.0  3585.000000   \n",
       "mean                   58.902371                           NaN    42.340032   \n",
       "std                   171.119663                           NaN     0.024403   \n",
       "min                     0.000000                           NaN    42.235942   \n",
       "25%                     1.000000                           NaN    42.329995   \n",
       "50%                     2.000000                           NaN    42.345201   \n",
       "75%                     7.000000                           NaN    42.354685   \n",
       "max                   749.000000                           NaN    42.389982   \n",
       "\n",
       "         longitude  accommodates    bathrooms  ...  review_scores_accuracy  \\\n",
       "count  3585.000000   3585.000000  3571.000000  ...             2762.000000   \n",
       "mean    -71.084818      3.041283     1.221647  ...                9.431571   \n",
       "std       0.031565      1.778929     0.501487  ...                0.931863   \n",
       "min     -71.171789      1.000000     0.000000  ...                2.000000   \n",
       "25%     -71.105083      2.000000     1.000000  ...                9.000000   \n",
       "50%     -71.078429      2.000000     1.000000  ...               10.000000   \n",
       "75%     -71.062155      4.000000     1.000000  ...               10.000000   \n",
       "max     -71.000100     16.000000     6.000000  ...               10.000000   \n",
       "\n",
       "       review_scores_cleanliness  review_scores_checkin  \\\n",
       "count                2767.000000            2765.000000   \n",
       "mean                    9.258041               9.646293   \n",
       "std                     1.168977               0.762753   \n",
       "min                     2.000000               2.000000   \n",
       "25%                     9.000000               9.000000   \n",
       "50%                    10.000000              10.000000   \n",
       "75%                    10.000000              10.000000   \n",
       "max                    10.000000              10.000000   \n",
       "\n",
       "       review_scores_communication  review_scores_location  \\\n",
       "count                  2767.000000             2763.000000   \n",
       "mean                      9.646549                9.414043   \n",
       "std                       0.735507                0.903436   \n",
       "min                       4.000000                2.000000   \n",
       "25%                       9.000000                9.000000   \n",
       "50%                      10.000000               10.000000   \n",
       "75%                      10.000000               10.000000   \n",
       "max                      10.000000               10.000000   \n",
       "\n",
       "       review_scores_value  license  jurisdiction_names  \\\n",
       "count          2764.000000      0.0                 0.0   \n",
       "mean              9.168234      NaN                 NaN   \n",
       "std               1.011116      NaN                 NaN   \n",
       "min               2.000000      NaN                 NaN   \n",
       "25%               9.000000      NaN                 NaN   \n",
       "50%               9.000000      NaN                 NaN   \n",
       "75%              10.000000      NaN                 NaN   \n",
       "max              10.000000      NaN                 NaN   \n",
       "\n",
       "       calculated_host_listings_count  reviews_per_month  \n",
       "count                     3585.000000        2829.000000  \n",
       "mean                        12.733891           1.970908  \n",
       "std                         29.415076           2.120561  \n",
       "min                          1.000000           0.010000  \n",
       "25%                          1.000000           0.480000  \n",
       "50%                          2.000000           1.170000  \n",
       "75%                          6.000000           2.720000  \n",
       "max                        136.000000          19.150000  \n",
       "\n",
       "[8 rows x 33 columns]"
      ]
     },
     "execution_count": 14,
     "metadata": {},
     "output_type": "execute_result"
    }
   ],
   "source": [
    "boston_listings_df.describe()"
   ]
  },
  {
   "cell_type": "code",
   "execution_count": 15,
   "metadata": {},
   "outputs": [
    {
     "data": {
      "text/plain": [
       "Index(['id', 'listing_url', 'scrape_id', 'last_scraped', 'name', 'summary',\n",
       "       'space', 'description', 'experiences_offered', 'neighborhood_overview',\n",
       "       'notes', 'transit', 'access', 'interaction', 'house_rules',\n",
       "       'thumbnail_url', 'medium_url', 'picture_url', 'xl_picture_url',\n",
       "       'host_id', 'host_url', 'host_name', 'host_since', 'host_location',\n",
       "       'host_about', 'host_response_time', 'host_response_rate',\n",
       "       'host_acceptance_rate', 'host_is_superhost', 'host_thumbnail_url',\n",
       "       'host_picture_url', 'host_neighbourhood', 'host_listings_count',\n",
       "       'host_total_listings_count', 'host_verifications',\n",
       "       'host_has_profile_pic', 'host_identity_verified', 'street',\n",
       "       'neighbourhood', 'neighbourhood_cleansed',\n",
       "       'neighbourhood_group_cleansed', 'city', 'state', 'zipcode', 'market',\n",
       "       'smart_location', 'country_code', 'country', 'latitude', 'longitude',\n",
       "       'is_location_exact', 'property_type', 'room_type', 'accommodates',\n",
       "       'bathrooms', 'bedrooms', 'beds', 'bed_type', 'amenities', 'square_feet',\n",
       "       'price', 'weekly_price', 'monthly_price', 'security_deposit',\n",
       "       'cleaning_fee', 'guests_included', 'extra_people', 'minimum_nights',\n",
       "       'maximum_nights', 'calendar_updated', 'has_availability',\n",
       "       'availability_30', 'availability_60', 'availability_90',\n",
       "       'availability_365', 'calendar_last_scraped', 'number_of_reviews',\n",
       "       'first_review', 'last_review', 'review_scores_rating',\n",
       "       'review_scores_accuracy', 'review_scores_cleanliness',\n",
       "       'review_scores_checkin', 'review_scores_communication',\n",
       "       'review_scores_location', 'review_scores_value', 'requires_license',\n",
       "       'license', 'jurisdiction_names', 'instant_bookable',\n",
       "       'cancellation_policy', 'require_guest_profile_picture',\n",
       "       'require_guest_phone_verification', 'calculated_host_listings_count',\n",
       "       'reviews_per_month', 'neighborhood_overview_senti_value'],\n",
       "      dtype='object')"
      ]
     },
     "execution_count": 15,
     "metadata": {},
     "output_type": "execute_result"
    }
   ],
   "source": [
    "boston_listings_df.columns"
   ]
  },
  {
   "cell_type": "code",
   "execution_count": 16,
   "metadata": {},
   "outputs": [
    {
     "data": {
      "text/html": [
       "<div>\n",
       "<style scoped>\n",
       "    .dataframe tbody tr th:only-of-type {\n",
       "        vertical-align: middle;\n",
       "    }\n",
       "\n",
       "    .dataframe tbody tr th {\n",
       "        vertical-align: top;\n",
       "    }\n",
       "\n",
       "    .dataframe thead th {\n",
       "        text-align: right;\n",
       "    }\n",
       "</style>\n",
       "<table border=\"1\" class=\"dataframe\">\n",
       "  <thead>\n",
       "    <tr style=\"text-align: right;\">\n",
       "      <th></th>\n",
       "      <th>id</th>\n",
       "      <th>listing_url</th>\n",
       "      <th>scrape_id</th>\n",
       "      <th>last_scraped</th>\n",
       "      <th>name</th>\n",
       "      <th>summary</th>\n",
       "      <th>space</th>\n",
       "      <th>description</th>\n",
       "      <th>experiences_offered</th>\n",
       "      <th>neighborhood_overview</th>\n",
       "      <th>...</th>\n",
       "      <th>requires_license</th>\n",
       "      <th>license</th>\n",
       "      <th>jurisdiction_names</th>\n",
       "      <th>instant_bookable</th>\n",
       "      <th>cancellation_policy</th>\n",
       "      <th>require_guest_profile_picture</th>\n",
       "      <th>require_guest_phone_verification</th>\n",
       "      <th>calculated_host_listings_count</th>\n",
       "      <th>reviews_per_month</th>\n",
       "      <th>neighborhood_overview_senti_value</th>\n",
       "    </tr>\n",
       "  </thead>\n",
       "  <tbody>\n",
       "    <tr>\n",
       "      <th>0</th>\n",
       "      <td>12147973</td>\n",
       "      <td>https://www.airbnb.com/rooms/12147973</td>\n",
       "      <td>20160906204935</td>\n",
       "      <td>2016-09-07</td>\n",
       "      <td>Sunny Bungalow in the City</td>\n",
       "      <td>Cozy, sunny, family home.  Master bedroom high...</td>\n",
       "      <td>The house has an open and cozy feel at the sam...</td>\n",
       "      <td>Cozy, sunny, family home.  Master bedroom high...</td>\n",
       "      <td>none</td>\n",
       "      <td>Roslindale is quiet, convenient and friendly. ...</td>\n",
       "      <td>...</td>\n",
       "      <td>f</td>\n",
       "      <td>NaN</td>\n",
       "      <td>NaN</td>\n",
       "      <td>f</td>\n",
       "      <td>moderate</td>\n",
       "      <td>f</td>\n",
       "      <td>f</td>\n",
       "      <td>1</td>\n",
       "      <td>NaN</td>\n",
       "      <td>POSITIVE</td>\n",
       "    </tr>\n",
       "    <tr>\n",
       "      <th>1</th>\n",
       "      <td>3075044</td>\n",
       "      <td>https://www.airbnb.com/rooms/3075044</td>\n",
       "      <td>20160906204935</td>\n",
       "      <td>2016-09-07</td>\n",
       "      <td>Charming room in pet friendly apt</td>\n",
       "      <td>Charming and quiet room in a second floor 1910...</td>\n",
       "      <td>Small but cozy and quite room with a full size...</td>\n",
       "      <td>Charming and quiet room in a second floor 1910...</td>\n",
       "      <td>none</td>\n",
       "      <td>The room is in Roslindale, a diverse and prima...</td>\n",
       "      <td>...</td>\n",
       "      <td>f</td>\n",
       "      <td>NaN</td>\n",
       "      <td>NaN</td>\n",
       "      <td>t</td>\n",
       "      <td>moderate</td>\n",
       "      <td>f</td>\n",
       "      <td>f</td>\n",
       "      <td>1</td>\n",
       "      <td>1.30</td>\n",
       "      <td>POSITIVE</td>\n",
       "    </tr>\n",
       "    <tr>\n",
       "      <th>2</th>\n",
       "      <td>6976</td>\n",
       "      <td>https://www.airbnb.com/rooms/6976</td>\n",
       "      <td>20160906204935</td>\n",
       "      <td>2016-09-07</td>\n",
       "      <td>Mexican Folk Art Haven in Boston</td>\n",
       "      <td>Come stay with a friendly, middle-aged guy in ...</td>\n",
       "      <td>Come stay with a friendly, middle-aged guy in ...</td>\n",
       "      <td>Come stay with a friendly, middle-aged guy in ...</td>\n",
       "      <td>none</td>\n",
       "      <td>The LOCATION: Roslindale is a safe and diverse...</td>\n",
       "      <td>...</td>\n",
       "      <td>f</td>\n",
       "      <td>NaN</td>\n",
       "      <td>NaN</td>\n",
       "      <td>f</td>\n",
       "      <td>moderate</td>\n",
       "      <td>t</td>\n",
       "      <td>f</td>\n",
       "      <td>1</td>\n",
       "      <td>0.47</td>\n",
       "      <td>POSITIVE</td>\n",
       "    </tr>\n",
       "    <tr>\n",
       "      <th>3</th>\n",
       "      <td>1436513</td>\n",
       "      <td>https://www.airbnb.com/rooms/1436513</td>\n",
       "      <td>20160906204935</td>\n",
       "      <td>2016-09-07</td>\n",
       "      <td>Spacious Sunny Bedroom Suite in Historic Home</td>\n",
       "      <td>Come experience the comforts of home away from...</td>\n",
       "      <td>Most places you find in Boston are small howev...</td>\n",
       "      <td>Come experience the comforts of home away from...</td>\n",
       "      <td>none</td>\n",
       "      <td>Roslindale is a lovely little neighborhood loc...</td>\n",
       "      <td>...</td>\n",
       "      <td>f</td>\n",
       "      <td>NaN</td>\n",
       "      <td>NaN</td>\n",
       "      <td>f</td>\n",
       "      <td>moderate</td>\n",
       "      <td>f</td>\n",
       "      <td>f</td>\n",
       "      <td>1</td>\n",
       "      <td>1.00</td>\n",
       "      <td>POSITIVE</td>\n",
       "    </tr>\n",
       "    <tr>\n",
       "      <th>4</th>\n",
       "      <td>7651065</td>\n",
       "      <td>https://www.airbnb.com/rooms/7651065</td>\n",
       "      <td>20160906204935</td>\n",
       "      <td>2016-09-07</td>\n",
       "      <td>Come Home to Boston</td>\n",
       "      <td>My comfy, clean and relaxing home is one block...</td>\n",
       "      <td>Clean, attractive, private room, one block fro...</td>\n",
       "      <td>My comfy, clean and relaxing home is one block...</td>\n",
       "      <td>none</td>\n",
       "      <td>I love the proximity to downtown, the neighbor...</td>\n",
       "      <td>...</td>\n",
       "      <td>f</td>\n",
       "      <td>NaN</td>\n",
       "      <td>NaN</td>\n",
       "      <td>f</td>\n",
       "      <td>flexible</td>\n",
       "      <td>f</td>\n",
       "      <td>f</td>\n",
       "      <td>1</td>\n",
       "      <td>2.25</td>\n",
       "      <td>POSITIVE</td>\n",
       "    </tr>\n",
       "  </tbody>\n",
       "</table>\n",
       "<p>5 rows × 96 columns</p>\n",
       "</div>"
      ],
      "text/plain": [
       "         id                            listing_url       scrape_id  \\\n",
       "0  12147973  https://www.airbnb.com/rooms/12147973  20160906204935   \n",
       "1   3075044   https://www.airbnb.com/rooms/3075044  20160906204935   \n",
       "2      6976      https://www.airbnb.com/rooms/6976  20160906204935   \n",
       "3   1436513   https://www.airbnb.com/rooms/1436513  20160906204935   \n",
       "4   7651065   https://www.airbnb.com/rooms/7651065  20160906204935   \n",
       "\n",
       "  last_scraped                                           name  \\\n",
       "0   2016-09-07                     Sunny Bungalow in the City   \n",
       "1   2016-09-07              Charming room in pet friendly apt   \n",
       "2   2016-09-07               Mexican Folk Art Haven in Boston   \n",
       "3   2016-09-07  Spacious Sunny Bedroom Suite in Historic Home   \n",
       "4   2016-09-07                            Come Home to Boston   \n",
       "\n",
       "                                             summary  \\\n",
       "0  Cozy, sunny, family home.  Master bedroom high...   \n",
       "1  Charming and quiet room in a second floor 1910...   \n",
       "2  Come stay with a friendly, middle-aged guy in ...   \n",
       "3  Come experience the comforts of home away from...   \n",
       "4  My comfy, clean and relaxing home is one block...   \n",
       "\n",
       "                                               space  \\\n",
       "0  The house has an open and cozy feel at the sam...   \n",
       "1  Small but cozy and quite room with a full size...   \n",
       "2  Come stay with a friendly, middle-aged guy in ...   \n",
       "3  Most places you find in Boston are small howev...   \n",
       "4  Clean, attractive, private room, one block fro...   \n",
       "\n",
       "                                         description experiences_offered  \\\n",
       "0  Cozy, sunny, family home.  Master bedroom high...                none   \n",
       "1  Charming and quiet room in a second floor 1910...                none   \n",
       "2  Come stay with a friendly, middle-aged guy in ...                none   \n",
       "3  Come experience the comforts of home away from...                none   \n",
       "4  My comfy, clean and relaxing home is one block...                none   \n",
       "\n",
       "                               neighborhood_overview  ... requires_license  \\\n",
       "0  Roslindale is quiet, convenient and friendly. ...  ...                f   \n",
       "1  The room is in Roslindale, a diverse and prima...  ...                f   \n",
       "2  The LOCATION: Roslindale is a safe and diverse...  ...                f   \n",
       "3  Roslindale is a lovely little neighborhood loc...  ...                f   \n",
       "4  I love the proximity to downtown, the neighbor...  ...                f   \n",
       "\n",
       "  license jurisdiction_names instant_bookable cancellation_policy  \\\n",
       "0     NaN                NaN                f            moderate   \n",
       "1     NaN                NaN                t            moderate   \n",
       "2     NaN                NaN                f            moderate   \n",
       "3     NaN                NaN                f            moderate   \n",
       "4     NaN                NaN                f            flexible   \n",
       "\n",
       "  require_guest_profile_picture require_guest_phone_verification  \\\n",
       "0                             f                                f   \n",
       "1                             f                                f   \n",
       "2                             t                                f   \n",
       "3                             f                                f   \n",
       "4                             f                                f   \n",
       "\n",
       "  calculated_host_listings_count reviews_per_month  \\\n",
       "0                              1               NaN   \n",
       "1                              1              1.30   \n",
       "2                              1              0.47   \n",
       "3                              1              1.00   \n",
       "4                              1              2.25   \n",
       "\n",
       "   neighborhood_overview_senti_value  \n",
       "0                           POSITIVE  \n",
       "1                           POSITIVE  \n",
       "2                           POSITIVE  \n",
       "3                           POSITIVE  \n",
       "4                           POSITIVE  \n",
       "\n",
       "[5 rows x 96 columns]"
      ]
     },
     "execution_count": 16,
     "metadata": {},
     "output_type": "execute_result"
    }
   ],
   "source": [
    "boston_listings_df.head()"
   ]
  },
  {
   "cell_type": "code",
   "execution_count": 17,
   "metadata": {},
   "outputs": [
    {
     "data": {
      "text/plain": [
       "Allston-Brighton      364\n",
       "Jamaica Plain         314\n",
       "South End             298\n",
       "Back Bay              291\n",
       "Fenway/Kenmore        249\n",
       "South Boston          216\n",
       "Dorchester            195\n",
       "Beacon Hill           174\n",
       "North End             125\n",
       "East Boston           117\n",
       "Roxbury               116\n",
       "Mission Hill          103\n",
       "Charlestown            79\n",
       "Chinatown              78\n",
       "West End               68\n",
       "Roslindale             50\n",
       "West Roxbury           35\n",
       "Theater District       33\n",
       "Downtown Crossing      26\n",
       "Hyde Park              25\n",
       "Mattapan               20\n",
       "Somerville             13\n",
       "Financial District     13\n",
       "Downtown                8\n",
       "Brookline               8\n",
       "Leather District        8\n",
       "Cambridge               7\n",
       "Chestnut Hill           4\n",
       "Government Center       3\n",
       "Harvard Square          2\n",
       "Name: neighbourhood, dtype: int64"
      ]
     },
     "execution_count": 17,
     "metadata": {},
     "output_type": "execute_result"
    }
   ],
   "source": [
    "# Exploring neighberhoods and their popularity\n",
    "boston_listings_df['neighbourhood'].value_counts()"
   ]
  },
  {
   "cell_type": "markdown",
   "metadata": {},
   "source": [
    "#### Calculate reviews sentiment using Flair pre-trained model"
   ]
  },
  {
   "cell_type": "code",
   "execution_count": 18,
   "metadata": {},
   "outputs": [],
   "source": [
    "# Applying sentiment analysis model in the comments column\n",
    "boston_reviews_df['comments_senti_score'] =  boston_reviews_df['comments'].apply(get_score)\n",
    "boston_reviews_df['comments_senti_label'] =  boston_reviews_df['comments'].apply(get_value)"
   ]
  },
  {
   "cell_type": "code",
   "execution_count": 19,
   "metadata": {},
   "outputs": [
    {
     "data": {
      "text/plain": [
       "POSITIVE    64538\n",
       "NEGATIVE     3683\n",
       "Name: comments_senti_label, dtype: int64"
      ]
     },
     "execution_count": 19,
     "metadata": {},
     "output_type": "execute_result"
    }
   ],
   "source": [
    "boston_reviews_df['comments_senti_label'].value_counts()"
   ]
  },
  {
   "cell_type": "markdown",
   "metadata": {},
   "source": [
    "#### 94.6% of reviews have a positive sentiment, what a great community"
   ]
  },
  {
   "cell_type": "code",
   "execution_count": 20,
   "metadata": {},
   "outputs": [
    {
     "data": {
      "text/plain": [
       "POSITIVE    0.946014\n",
       "NEGATIVE    0.053986\n",
       "Name: comments_senti_label, dtype: float64"
      ]
     },
     "execution_count": 20,
     "metadata": {},
     "output_type": "execute_result"
    }
   ],
   "source": [
    "boston_reviews_df['comments_senti_label'].value_counts(normalize = True)"
   ]
  },
  {
   "cell_type": "code",
   "execution_count": 21,
   "metadata": {},
   "outputs": [
    {
     "data": {
      "text/html": [
       "<div>\n",
       "<style scoped>\n",
       "    .dataframe tbody tr th:only-of-type {\n",
       "        vertical-align: middle;\n",
       "    }\n",
       "\n",
       "    .dataframe tbody tr th {\n",
       "        vertical-align: top;\n",
       "    }\n",
       "\n",
       "    .dataframe thead th {\n",
       "        text-align: right;\n",
       "    }\n",
       "</style>\n",
       "<table border=\"1\" class=\"dataframe\">\n",
       "  <thead>\n",
       "    <tr style=\"text-align: right;\">\n",
       "      <th></th>\n",
       "      <th>listing_id</th>\n",
       "      <th>id</th>\n",
       "      <th>reviewer_id</th>\n",
       "      <th>comments_senti_score</th>\n",
       "    </tr>\n",
       "  </thead>\n",
       "  <tbody>\n",
       "    <tr>\n",
       "      <th>count</th>\n",
       "      <td>6.827500e+04</td>\n",
       "      <td>6.827500e+04</td>\n",
       "      <td>6.827500e+04</td>\n",
       "      <td>68221.000000</td>\n",
       "    </tr>\n",
       "    <tr>\n",
       "      <th>mean</th>\n",
       "      <td>4.759910e+06</td>\n",
       "      <td>5.246516e+07</td>\n",
       "      <td>2.802389e+07</td>\n",
       "      <td>0.989498</td>\n",
       "    </tr>\n",
       "    <tr>\n",
       "      <th>std</th>\n",
       "      <td>3.788990e+06</td>\n",
       "      <td>2.790991e+07</td>\n",
       "      <td>2.234097e+07</td>\n",
       "      <td>0.042339</td>\n",
       "    </tr>\n",
       "    <tr>\n",
       "      <th>min</th>\n",
       "      <td>3.353000e+03</td>\n",
       "      <td>1.021000e+03</td>\n",
       "      <td>1.430000e+02</td>\n",
       "      <td>0.500000</td>\n",
       "    </tr>\n",
       "    <tr>\n",
       "      <th>25%</th>\n",
       "      <td>1.458081e+06</td>\n",
       "      <td>3.010420e+07</td>\n",
       "      <td>9.001346e+06</td>\n",
       "      <td>0.990000</td>\n",
       "    </tr>\n",
       "    <tr>\n",
       "      <th>50%</th>\n",
       "      <td>4.080000e+06</td>\n",
       "      <td>5.223121e+07</td>\n",
       "      <td>2.305179e+07</td>\n",
       "      <td>1.000000</td>\n",
       "    </tr>\n",
       "    <tr>\n",
       "      <th>75%</th>\n",
       "      <td>7.377034e+06</td>\n",
       "      <td>7.663248e+07</td>\n",
       "      <td>4.213454e+07</td>\n",
       "      <td>1.000000</td>\n",
       "    </tr>\n",
       "    <tr>\n",
       "      <th>max</th>\n",
       "      <td>1.484378e+07</td>\n",
       "      <td>9.999045e+07</td>\n",
       "      <td>9.335034e+07</td>\n",
       "      <td>1.000000</td>\n",
       "    </tr>\n",
       "  </tbody>\n",
       "</table>\n",
       "</div>"
      ],
      "text/plain": [
       "         listing_id            id   reviewer_id  comments_senti_score\n",
       "count  6.827500e+04  6.827500e+04  6.827500e+04          68221.000000\n",
       "mean   4.759910e+06  5.246516e+07  2.802389e+07              0.989498\n",
       "std    3.788990e+06  2.790991e+07  2.234097e+07              0.042339\n",
       "min    3.353000e+03  1.021000e+03  1.430000e+02              0.500000\n",
       "25%    1.458081e+06  3.010420e+07  9.001346e+06              0.990000\n",
       "50%    4.080000e+06  5.223121e+07  2.305179e+07              1.000000\n",
       "75%    7.377034e+06  7.663248e+07  4.213454e+07              1.000000\n",
       "max    1.484378e+07  9.999045e+07  9.335034e+07              1.000000"
      ]
     },
     "execution_count": 21,
     "metadata": {},
     "output_type": "execute_result"
    }
   ],
   "source": [
    "boston_reviews_df.describe()"
   ]
  },
  {
   "cell_type": "code",
   "execution_count": 22,
   "metadata": {},
   "outputs": [
    {
     "data": {
      "text/html": [
       "<div>\n",
       "<style scoped>\n",
       "    .dataframe tbody tr th:only-of-type {\n",
       "        vertical-align: middle;\n",
       "    }\n",
       "\n",
       "    .dataframe tbody tr th {\n",
       "        vertical-align: top;\n",
       "    }\n",
       "\n",
       "    .dataframe thead th {\n",
       "        text-align: right;\n",
       "    }\n",
       "</style>\n",
       "<table border=\"1\" class=\"dataframe\">\n",
       "  <thead>\n",
       "    <tr style=\"text-align: right;\">\n",
       "      <th></th>\n",
       "      <th>listing_id</th>\n",
       "      <th>id</th>\n",
       "      <th>date</th>\n",
       "      <th>reviewer_id</th>\n",
       "      <th>reviewer_name</th>\n",
       "      <th>comments</th>\n",
       "      <th>date_dt</th>\n",
       "      <th>season</th>\n",
       "      <th>comments_senti_score</th>\n",
       "      <th>comments_senti_label</th>\n",
       "    </tr>\n",
       "  </thead>\n",
       "  <tbody>\n",
       "    <tr>\n",
       "      <th>0</th>\n",
       "      <td>1178162</td>\n",
       "      <td>4724140</td>\n",
       "      <td>2013-05-21</td>\n",
       "      <td>4298113</td>\n",
       "      <td>Olivier</td>\n",
       "      <td>My stay at islam's place was really cool! Good...</td>\n",
       "      <td>2013-05-21</td>\n",
       "      <td>spring</td>\n",
       "      <td>1.00</td>\n",
       "      <td>POSITIVE</td>\n",
       "    </tr>\n",
       "    <tr>\n",
       "      <th>1</th>\n",
       "      <td>1178162</td>\n",
       "      <td>4869189</td>\n",
       "      <td>2013-05-29</td>\n",
       "      <td>6452964</td>\n",
       "      <td>Charlotte</td>\n",
       "      <td>Great location for both airport and city - gre...</td>\n",
       "      <td>2013-05-29</td>\n",
       "      <td>spring</td>\n",
       "      <td>0.98</td>\n",
       "      <td>POSITIVE</td>\n",
       "    </tr>\n",
       "    <tr>\n",
       "      <th>2</th>\n",
       "      <td>1178162</td>\n",
       "      <td>5003196</td>\n",
       "      <td>2013-06-06</td>\n",
       "      <td>6449554</td>\n",
       "      <td>Sebastian</td>\n",
       "      <td>We really enjoyed our stay at Islams house. Fr...</td>\n",
       "      <td>2013-06-06</td>\n",
       "      <td>spring</td>\n",
       "      <td>1.00</td>\n",
       "      <td>POSITIVE</td>\n",
       "    </tr>\n",
       "    <tr>\n",
       "      <th>3</th>\n",
       "      <td>1178162</td>\n",
       "      <td>5150351</td>\n",
       "      <td>2013-06-15</td>\n",
       "      <td>2215611</td>\n",
       "      <td>Marine</td>\n",
       "      <td>The room was nice and clean and so were the co...</td>\n",
       "      <td>2013-06-15</td>\n",
       "      <td>spring</td>\n",
       "      <td>0.99</td>\n",
       "      <td>POSITIVE</td>\n",
       "    </tr>\n",
       "    <tr>\n",
       "      <th>4</th>\n",
       "      <td>1178162</td>\n",
       "      <td>5171140</td>\n",
       "      <td>2013-06-16</td>\n",
       "      <td>6848427</td>\n",
       "      <td>Andrew</td>\n",
       "      <td>Great location. Just 5 mins walk from the Airp...</td>\n",
       "      <td>2013-06-16</td>\n",
       "      <td>spring</td>\n",
       "      <td>1.00</td>\n",
       "      <td>POSITIVE</td>\n",
       "    </tr>\n",
       "  </tbody>\n",
       "</table>\n",
       "</div>"
      ],
      "text/plain": [
       "   listing_id       id        date  reviewer_id reviewer_name  \\\n",
       "0     1178162  4724140  2013-05-21      4298113       Olivier   \n",
       "1     1178162  4869189  2013-05-29      6452964     Charlotte   \n",
       "2     1178162  5003196  2013-06-06      6449554     Sebastian   \n",
       "3     1178162  5150351  2013-06-15      2215611        Marine   \n",
       "4     1178162  5171140  2013-06-16      6848427        Andrew   \n",
       "\n",
       "                                            comments    date_dt  season  \\\n",
       "0  My stay at islam's place was really cool! Good... 2013-05-21  spring   \n",
       "1  Great location for both airport and city - gre... 2013-05-29  spring   \n",
       "2  We really enjoyed our stay at Islams house. Fr... 2013-06-06  spring   \n",
       "3  The room was nice and clean and so were the co... 2013-06-15  spring   \n",
       "4  Great location. Just 5 mins walk from the Airp... 2013-06-16  spring   \n",
       "\n",
       "   comments_senti_score comments_senti_label  \n",
       "0                  1.00             POSITIVE  \n",
       "1                  0.98             POSITIVE  \n",
       "2                  1.00             POSITIVE  \n",
       "3                  0.99             POSITIVE  \n",
       "4                  1.00             POSITIVE  "
      ]
     },
     "execution_count": 22,
     "metadata": {},
     "output_type": "execute_result"
    }
   ],
   "source": [
    "boston_reviews_df.head()"
   ]
  },
  {
   "cell_type": "code",
   "execution_count": 23,
   "metadata": {},
   "outputs": [
    {
     "data": {
      "text/html": [
       "<div>\n",
       "<style scoped>\n",
       "    .dataframe tbody tr th:only-of-type {\n",
       "        vertical-align: middle;\n",
       "    }\n",
       "\n",
       "    .dataframe tbody tr th {\n",
       "        vertical-align: top;\n",
       "    }\n",
       "\n",
       "    .dataframe thead th {\n",
       "        text-align: right;\n",
       "    }\n",
       "</style>\n",
       "<table border=\"1\" class=\"dataframe\">\n",
       "  <thead>\n",
       "    <tr style=\"text-align: right;\">\n",
       "      <th></th>\n",
       "      <th>listing_id</th>\n",
       "      <th>date</th>\n",
       "      <th>available</th>\n",
       "      <th>price</th>\n",
       "      <th>date_dt</th>\n",
       "      <th>season</th>\n",
       "    </tr>\n",
       "  </thead>\n",
       "  <tbody>\n",
       "    <tr>\n",
       "      <th>0</th>\n",
       "      <td>12147973</td>\n",
       "      <td>2017-09-05</td>\n",
       "      <td>False</td>\n",
       "      <td>NaN</td>\n",
       "      <td>2017-09-05</td>\n",
       "      <td>summer</td>\n",
       "    </tr>\n",
       "    <tr>\n",
       "      <th>1</th>\n",
       "      <td>12147973</td>\n",
       "      <td>2017-09-04</td>\n",
       "      <td>False</td>\n",
       "      <td>NaN</td>\n",
       "      <td>2017-09-04</td>\n",
       "      <td>summer</td>\n",
       "    </tr>\n",
       "    <tr>\n",
       "      <th>2</th>\n",
       "      <td>12147973</td>\n",
       "      <td>2017-09-03</td>\n",
       "      <td>False</td>\n",
       "      <td>NaN</td>\n",
       "      <td>2017-09-03</td>\n",
       "      <td>summer</td>\n",
       "    </tr>\n",
       "    <tr>\n",
       "      <th>3</th>\n",
       "      <td>12147973</td>\n",
       "      <td>2017-09-02</td>\n",
       "      <td>False</td>\n",
       "      <td>NaN</td>\n",
       "      <td>2017-09-02</td>\n",
       "      <td>summer</td>\n",
       "    </tr>\n",
       "    <tr>\n",
       "      <th>4</th>\n",
       "      <td>12147973</td>\n",
       "      <td>2017-09-01</td>\n",
       "      <td>False</td>\n",
       "      <td>NaN</td>\n",
       "      <td>2017-09-01</td>\n",
       "      <td>summer</td>\n",
       "    </tr>\n",
       "  </tbody>\n",
       "</table>\n",
       "</div>"
      ],
      "text/plain": [
       "   listing_id        date  available  price    date_dt  season\n",
       "0    12147973  2017-09-05      False    NaN 2017-09-05  summer\n",
       "1    12147973  2017-09-04      False    NaN 2017-09-04  summer\n",
       "2    12147973  2017-09-03      False    NaN 2017-09-03  summer\n",
       "3    12147973  2017-09-02      False    NaN 2017-09-02  summer\n",
       "4    12147973  2017-09-01      False    NaN 2017-09-01  summer"
      ]
     },
     "execution_count": 23,
     "metadata": {},
     "output_type": "execute_result"
    }
   ],
   "source": [
    "boston_calendar_df.head()"
   ]
  },
  {
   "cell_type": "code",
   "execution_count": 24,
   "metadata": {},
   "outputs": [
    {
     "data": {
      "text/html": [
       "<div>\n",
       "<style scoped>\n",
       "    .dataframe tbody tr th:only-of-type {\n",
       "        vertical-align: middle;\n",
       "    }\n",
       "\n",
       "    .dataframe tbody tr th {\n",
       "        vertical-align: top;\n",
       "    }\n",
       "\n",
       "    .dataframe thead th {\n",
       "        text-align: right;\n",
       "    }\n",
       "</style>\n",
       "<table border=\"1\" class=\"dataframe\">\n",
       "  <thead>\n",
       "    <tr style=\"text-align: right;\">\n",
       "      <th></th>\n",
       "      <th>listing_id</th>\n",
       "      <th>price</th>\n",
       "    </tr>\n",
       "  </thead>\n",
       "  <tbody>\n",
       "    <tr>\n",
       "      <th>count</th>\n",
       "      <td>1.308890e+06</td>\n",
       "      <td>643037.000000</td>\n",
       "    </tr>\n",
       "    <tr>\n",
       "      <th>mean</th>\n",
       "      <td>8.442118e+06</td>\n",
       "      <td>198.438909</td>\n",
       "    </tr>\n",
       "    <tr>\n",
       "      <th>std</th>\n",
       "      <td>4.500149e+06</td>\n",
       "      <td>180.142913</td>\n",
       "    </tr>\n",
       "    <tr>\n",
       "      <th>min</th>\n",
       "      <td>3.353000e+03</td>\n",
       "      <td>11.000000</td>\n",
       "    </tr>\n",
       "    <tr>\n",
       "      <th>25%</th>\n",
       "      <td>4.679319e+06</td>\n",
       "      <td>85.000000</td>\n",
       "    </tr>\n",
       "    <tr>\n",
       "      <th>50%</th>\n",
       "      <td>8.578710e+06</td>\n",
       "      <td>150.000000</td>\n",
       "    </tr>\n",
       "    <tr>\n",
       "      <th>75%</th>\n",
       "      <td>1.279603e+07</td>\n",
       "      <td>255.000000</td>\n",
       "    </tr>\n",
       "    <tr>\n",
       "      <th>max</th>\n",
       "      <td>1.493346e+07</td>\n",
       "      <td>7163.000000</td>\n",
       "    </tr>\n",
       "  </tbody>\n",
       "</table>\n",
       "</div>"
      ],
      "text/plain": [
       "         listing_id          price\n",
       "count  1.308890e+06  643037.000000\n",
       "mean   8.442118e+06     198.438909\n",
       "std    4.500149e+06     180.142913\n",
       "min    3.353000e+03      11.000000\n",
       "25%    4.679319e+06      85.000000\n",
       "50%    8.578710e+06     150.000000\n",
       "75%    1.279603e+07     255.000000\n",
       "max    1.493346e+07    7163.000000"
      ]
     },
     "execution_count": 24,
     "metadata": {},
     "output_type": "execute_result"
    }
   ],
   "source": [
    "boston_calendar_df.describe()"
   ]
  },
  {
   "cell_type": "markdown",
   "metadata": {},
   "source": [
    "### Questions to answer (reminder, metioned above):\n",
    "#### What is the average availability by season? Does the price change by season?\n",
    "#### Are super hosts less likely to get negative reviews than regular hosts?\n",
    "#### Can we predict listing price? What are the main factors influencing a listing price?"
   ]
  },
  {
   "cell_type": "code",
   "execution_count": 26,
   "metadata": {},
   "outputs": [
    {
     "data": {
      "text/plain": [
       "0    2015-04-15\n",
       "1    2012-06-07\n",
       "2    2009-05-11\n",
       "3    2013-04-21\n",
       "4    2014-05-11\n",
       "Name: host_since, dtype: object"
      ]
     },
     "execution_count": 26,
     "metadata": {},
     "output_type": "execute_result"
    }
   ],
   "source": [
    "boston_listings_df['host_since'].head()"
   ]
  },
  {
   "cell_type": "markdown",
   "metadata": {},
   "source": [
    "### Looking into unique counts of neighberhood overview"
   ]
  },
  {
   "cell_type": "code",
   "execution_count": 27,
   "metadata": {},
   "outputs": [
    {
     "data": {
      "text/plain": [
       "Conveniently bordering the neighborhoods of the South End, Back Bay and Copley Square –  Steps to public transportation, the financial district, The Copley Mall, and Newbury Street.                                                                                                                                                                                                                                                                                                                                                                                                                                                                                                                                                                                                                                                                                  21\n",
       "Major Attractions: •Restaurants – The Q Restaurant (1 min), Artisan Bistro (.1 mi), My Thai Vegan Café (1 min), Sip Wine Bar and Kitchen (.1 mi) •Faneuil Hall for shopping and dining – .8 mi •Shops at Prudential Center – 2 mi •Downtown Crossing  featuring local events, eclectic nightlife, history and culture – Freedom Trail, over 100 restaurants, and over 500 retailers – .4 mi •Massachusetts Convention Center – 1.1 mi •Copely Square - .8 mi •New England Aquarium – 1.2 mi •Boston Opera House - .5 mi •Near Tufts University (6.9 mi), Tufts Medical Center (1.1 mi), and Emerson College (.2 mi)                                                                                                                                                                                                                                                    17\n",
       "Beacon Hill is one of Boston’s most historic neighborhoods. Close to public transportation, the neighborhood offers antique shops, boutiques and restaurants. Beacon Hill is regarded as the most desirable and expensive neighborhood in Boston.                                                                                                                                                                                                                                                                                                                                                                                                                                                                                                                                                                                                                      13\n",
       "Located in Boston’s award winning Back Bay district. Just steps from public transportation and trendy restaurants, shops, hair salons, upscale retail shopping financial and entertainment amenities Boston has to offer.                                                                                                                                                                                                                                                                                                                                                                                                                                                                                                                                                                                                                                              10\n",
       "Characterized by cobblestone streets, clam chowder, fishing harbors, and crisp fall afternoons, Boston is the quintessential New England city. As one of the oldest cities in the nation, Boston lives up to its title of the \"Cradle of Modern America,\" with endless traces of historical Colonial and Revolutionary America permeating its streets. At Fenway Triangle Trilogy you’ll be in the heart of one of Boston’s most dynamic and exciting neighborhoods. Step out your front door and you will be steps from some of the city’s most renowned restaurants, shops, museums, parks, theaters, nightlife and sporting events. The Longwood Medical Area and Harvard Medical School are practically in your backyard and with the proximity to area Universities you can be assured that something exciting will always be happening in your neighborhood.     10\n",
       "                                                                                                                                                                                                                                                                                                                                                                                                                                                                                                                                                                                                                                                                                                                                                                                                                                                                       ..\n",
       "I have seen the South End evolve and change.  Now we have a plethora of great restaurants, small boutiques, and yoga studios.  The folks in the building are mostly involved in academia and are always ready to answer any questions.                                                                                                                                                                                                                                                                                                                                                                                                                                                                                                                                                                                                                                  1\n",
       "The by the bay beauty                                                                                                                                                                                                                                                                                                                                                                                                                                                                                                                                                                                                                                                                                                                                                                                                                                                   1\n",
       "The location is the key for our place where you can go everywhere within walking distance. The neighborhood is one of the most safety area in the city. Symphony Hall is right at the corner. Hynes Convention Center, Museum of Fine Art, NEU, Berklee College of Music, NEC, BU, Longwood Medical Area, Prudential Shopping Center, Copley Shopping Mall, Newbury Street, Christian Science Church and FENWAY PARK.....all in walking distance.                                                                                                                                                                                                                                                                                                                                                                                                                       1\n",
       "This apartment is located between the lively Back Bay and Fenway area, with more than two dozens of restaurants and bars around. You will easily find more than a handful of things to do in the neighborhood day and night, the long list includes: Museum of Fine Arts, Symphony Hall, Jordan Hall, Isabelle Gardner Museum, The Esplanade... For groceries, Whole Foods is a mere 5-minute walk from the apartment. Other chain supermarkets are also within a 10-20 minute walking distance. There also hardware stores and 24-hr convenient stores within short walking distance.                                                                                                                                                                                                                                                                                  1\n",
       "Very friendly neighborhood with easy access to both Boston's must visit places and shopping. Whole foods, Boston Symphony Hall, CVS, Restaurant Stretch, Multiple Subway (T) Stops within 5min of the Apt! Absolutely beautiful location and very conveniently located.   Prudential Mall, Reflecting Pool, Christian Science Center are 4 min away!                                                                                                                                                                                                                                                                                                                                                                                                                                                                                                                    1\n",
       "Name: neighborhood_overview, Length: 1728, dtype: int64"
      ]
     },
     "execution_count": 27,
     "metadata": {},
     "output_type": "execute_result"
    }
   ],
   "source": [
    "boston_listings_df['neighborhood_overview'].value_counts()"
   ]
  },
  {
   "cell_type": "code",
   "execution_count": null,
   "metadata": {},
   "outputs": [
    {
     "data": {
      "text/html": [
       "<div>\n",
       "<style scoped>\n",
       "    .dataframe tbody tr th:only-of-type {\n",
       "        vertical-align: middle;\n",
       "    }\n",
       "\n",
       "    .dataframe tbody tr th {\n",
       "        vertical-align: top;\n",
       "    }\n",
       "\n",
       "    .dataframe thead th {\n",
       "        text-align: right;\n",
       "    }\n",
       "</style>\n",
       "<table border=\"1\" class=\"dataframe\">\n",
       "  <thead>\n",
       "    <tr style=\"text-align: right;\">\n",
       "      <th></th>\n",
       "      <th>listing_id</th>\n",
       "      <th>id</th>\n",
       "      <th>date</th>\n",
       "      <th>reviewer_id</th>\n",
       "      <th>reviewer_name</th>\n",
       "      <th>comments</th>\n",
       "      <th>date_dt</th>\n",
       "      <th>season</th>\n",
       "      <th>comments_senti_score</th>\n",
       "      <th>comments_senti_label</th>\n",
       "    </tr>\n",
       "  </thead>\n",
       "  <tbody>\n",
       "    <tr>\n",
       "      <th>0</th>\n",
       "      <td>1178162</td>\n",
       "      <td>4724140</td>\n",
       "      <td>2013-05-21</td>\n",
       "      <td>4298113</td>\n",
       "      <td>Olivier</td>\n",
       "      <td>My stay at islam's place was really cool! Good...</td>\n",
       "      <td>2013-05-21</td>\n",
       "      <td>spring</td>\n",
       "      <td>1.00</td>\n",
       "      <td>POSITIVE</td>\n",
       "    </tr>\n",
       "    <tr>\n",
       "      <th>1</th>\n",
       "      <td>1178162</td>\n",
       "      <td>4869189</td>\n",
       "      <td>2013-05-29</td>\n",
       "      <td>6452964</td>\n",
       "      <td>Charlotte</td>\n",
       "      <td>Great location for both airport and city - gre...</td>\n",
       "      <td>2013-05-29</td>\n",
       "      <td>spring</td>\n",
       "      <td>0.98</td>\n",
       "      <td>POSITIVE</td>\n",
       "    </tr>\n",
       "    <tr>\n",
       "      <th>2</th>\n",
       "      <td>1178162</td>\n",
       "      <td>5003196</td>\n",
       "      <td>2013-06-06</td>\n",
       "      <td>6449554</td>\n",
       "      <td>Sebastian</td>\n",
       "      <td>We really enjoyed our stay at Islams house. Fr...</td>\n",
       "      <td>2013-06-06</td>\n",
       "      <td>spring</td>\n",
       "      <td>1.00</td>\n",
       "      <td>POSITIVE</td>\n",
       "    </tr>\n",
       "    <tr>\n",
       "      <th>3</th>\n",
       "      <td>1178162</td>\n",
       "      <td>5150351</td>\n",
       "      <td>2013-06-15</td>\n",
       "      <td>2215611</td>\n",
       "      <td>Marine</td>\n",
       "      <td>The room was nice and clean and so were the co...</td>\n",
       "      <td>2013-06-15</td>\n",
       "      <td>spring</td>\n",
       "      <td>0.99</td>\n",
       "      <td>POSITIVE</td>\n",
       "    </tr>\n",
       "    <tr>\n",
       "      <th>4</th>\n",
       "      <td>1178162</td>\n",
       "      <td>5171140</td>\n",
       "      <td>2013-06-16</td>\n",
       "      <td>6848427</td>\n",
       "      <td>Andrew</td>\n",
       "      <td>Great location. Just 5 mins walk from the Airp...</td>\n",
       "      <td>2013-06-16</td>\n",
       "      <td>spring</td>\n",
       "      <td>1.00</td>\n",
       "      <td>POSITIVE</td>\n",
       "    </tr>\n",
       "  </tbody>\n",
       "</table>\n",
       "</div>"
      ],
      "text/plain": [
       "   listing_id       id        date  reviewer_id reviewer_name  \\\n",
       "0     1178162  4724140  2013-05-21      4298113       Olivier   \n",
       "1     1178162  4869189  2013-05-29      6452964     Charlotte   \n",
       "2     1178162  5003196  2013-06-06      6449554     Sebastian   \n",
       "3     1178162  5150351  2013-06-15      2215611        Marine   \n",
       "4     1178162  5171140  2013-06-16      6848427        Andrew   \n",
       "\n",
       "                                            comments    date_dt  season  \\\n",
       "0  My stay at islam's place was really cool! Good... 2013-05-21  spring   \n",
       "1  Great location for both airport and city - gre... 2013-05-29  spring   \n",
       "2  We really enjoyed our stay at Islams house. Fr... 2013-06-06  spring   \n",
       "3  The room was nice and clean and so were the co... 2013-06-15  spring   \n",
       "4  Great location. Just 5 mins walk from the Airp... 2013-06-16  spring   \n",
       "\n",
       "   comments_senti_score comments_senti_label  \n",
       "0                  1.00             POSITIVE  \n",
       "1                  0.98             POSITIVE  \n",
       "2                  1.00             POSITIVE  \n",
       "3                  0.99             POSITIVE  \n",
       "4                  1.00             POSITIVE  "
      ]
     },
     "execution_count": 28,
     "metadata": {},
     "output_type": "execute_result"
    }
   ],
   "source": [
    "boston_reviews_df.head()"
   ]
  },
  {
   "cell_type": "code",
   "execution_count": null,
   "metadata": {},
   "outputs": [
    {
     "data": {
      "text/html": [
       "<div>\n",
       "<style scoped>\n",
       "    .dataframe tbody tr th:only-of-type {\n",
       "        vertical-align: middle;\n",
       "    }\n",
       "\n",
       "    .dataframe tbody tr th {\n",
       "        vertical-align: top;\n",
       "    }\n",
       "\n",
       "    .dataframe thead th {\n",
       "        text-align: right;\n",
       "    }\n",
       "</style>\n",
       "<table border=\"1\" class=\"dataframe\">\n",
       "  <thead>\n",
       "    <tr style=\"text-align: right;\">\n",
       "      <th></th>\n",
       "      <th>listing_id</th>\n",
       "      <th>date</th>\n",
       "      <th>available</th>\n",
       "      <th>price</th>\n",
       "      <th>date_dt</th>\n",
       "      <th>season</th>\n",
       "    </tr>\n",
       "  </thead>\n",
       "  <tbody>\n",
       "    <tr>\n",
       "      <th>0</th>\n",
       "      <td>12147973</td>\n",
       "      <td>2017-09-05</td>\n",
       "      <td>False</td>\n",
       "      <td>NaN</td>\n",
       "      <td>2017-09-05</td>\n",
       "      <td>summer</td>\n",
       "    </tr>\n",
       "    <tr>\n",
       "      <th>1</th>\n",
       "      <td>12147973</td>\n",
       "      <td>2017-09-04</td>\n",
       "      <td>False</td>\n",
       "      <td>NaN</td>\n",
       "      <td>2017-09-04</td>\n",
       "      <td>summer</td>\n",
       "    </tr>\n",
       "    <tr>\n",
       "      <th>2</th>\n",
       "      <td>12147973</td>\n",
       "      <td>2017-09-03</td>\n",
       "      <td>False</td>\n",
       "      <td>NaN</td>\n",
       "      <td>2017-09-03</td>\n",
       "      <td>summer</td>\n",
       "    </tr>\n",
       "    <tr>\n",
       "      <th>3</th>\n",
       "      <td>12147973</td>\n",
       "      <td>2017-09-02</td>\n",
       "      <td>False</td>\n",
       "      <td>NaN</td>\n",
       "      <td>2017-09-02</td>\n",
       "      <td>summer</td>\n",
       "    </tr>\n",
       "    <tr>\n",
       "      <th>4</th>\n",
       "      <td>12147973</td>\n",
       "      <td>2017-09-01</td>\n",
       "      <td>False</td>\n",
       "      <td>NaN</td>\n",
       "      <td>2017-09-01</td>\n",
       "      <td>summer</td>\n",
       "    </tr>\n",
       "  </tbody>\n",
       "</table>\n",
       "</div>"
      ],
      "text/plain": [
       "   listing_id        date  available  price    date_dt  season\n",
       "0    12147973  2017-09-05      False    NaN 2017-09-05  summer\n",
       "1    12147973  2017-09-04      False    NaN 2017-09-04  summer\n",
       "2    12147973  2017-09-03      False    NaN 2017-09-03  summer\n",
       "3    12147973  2017-09-02      False    NaN 2017-09-02  summer\n",
       "4    12147973  2017-09-01      False    NaN 2017-09-01  summer"
      ]
     },
     "execution_count": 29,
     "metadata": {},
     "output_type": "execute_result"
    }
   ],
   "source": [
    "boston_calendar_df.head()"
   ]
  },
  {
   "cell_type": "markdown",
   "metadata": {},
   "source": [
    "### What is the average availability by season? Does the price change by season?"
   ]
  },
  {
   "cell_type": "code",
   "execution_count": null,
   "metadata": {},
   "outputs": [],
   "source": [
    "boston_calendar_avail = boston_calendar_df.groupby(\"season\")[\"available\"].agg([\"sum\",\"mean\"]).reset_index()"
   ]
  },
  {
   "cell_type": "code",
   "execution_count": null,
   "metadata": {},
   "outputs": [
    {
     "data": {
      "text/plain": [
       "False    665853\n",
       "True     643037\n",
       "Name: available, dtype: int64"
      ]
     },
     "execution_count": 31,
     "metadata": {},
     "output_type": "execute_result"
    }
   ],
   "source": [
    "boston_calendar_df['available'].value_counts()"
   ]
  },
  {
   "cell_type": "code",
   "execution_count": null,
   "metadata": {},
   "outputs": [
    {
     "data": {
      "text/plain": [
       "<AxesSubplot:title={'center':'Mean availability by season'}, xlabel='season'>"
      ]
     },
     "execution_count": 32,
     "metadata": {},
     "output_type": "execute_result"
    },
    {
     "data": {
      "image/png": "[encoded data removed]",
      "text/plain": [
       "<Figure size 432x288 with 1 Axes>"
      ]
     },
     "metadata": {
      "needs_background": "light"
     },
     "output_type": "display_data"
    }
   ],
   "source": [
    "# Summer seem to have the lowest availability which makes sense\n",
    "boston_calendar_avail.plot(x='season', y='mean',kind=\"bar\", title = 'Mean availability by season')"
   ]
  },
  {
   "cell_type": "code",
   "execution_count": null,
   "metadata": {},
   "outputs": [
    {
     "data": {
      "text/plain": [
       "<AxesSubplot:title={'center':'Mean price by season'}, xlabel='season'>"
      ]
     },
     "execution_count": 33,
     "metadata": {},
     "output_type": "execute_result"
    },
    {
     "data": {
      "image/png": "[encoded data removed]",
      "text/plain": [
       "<Figure size 432x288 with 1 Axes>"
      ]
     },
     "metadata": {
      "needs_background": "light"
     },
     "output_type": "display_data"
    }
   ],
   "source": [
    "# Unlike what was expected Autumn has the highest mean price and not summer\n",
    "boston_price_season=boston_calendar_df.groupby('season').agg(['mean']).reset_index()\n",
    "boston_price_season.plot(x='season', y='price',kind=\"bar\", title = 'Mean price by season')"
   ]
  },
  {
   "cell_type": "markdown",
   "metadata": {},
   "source": [
    "### Are super hosts less likely to get negative reviews than regular hosts?"
   ]
  },
  {
   "cell_type": "code",
   "execution_count": null,
   "metadata": {},
   "outputs": [],
   "source": [
    "# Calculate review positive/negative rate per listing\n",
    "boston_reviews_df['comments_senti_label_int'] = boston_reviews_df['comments_senti_label'].apply(lambda x: 1 if x==\"POSITIVE\" else 0)\n",
    "boston_reviews_avg_review_sentiment = boston_reviews_df.groupby(\"listing_id\")[\"comments_senti_label_int\"].agg([\"mean\"]).reset_index()"
   ]
  },
  {
   "cell_type": "code",
   "execution_count": null,
   "metadata": {},
   "outputs": [
    {
     "data": {
      "text/html": [
       "<div>\n",
       "<style scoped>\n",
       "    .dataframe tbody tr th:only-of-type {\n",
       "        vertical-align: middle;\n",
       "    }\n",
       "\n",
       "    .dataframe tbody tr th {\n",
       "        vertical-align: top;\n",
       "    }\n",
       "\n",
       "    .dataframe thead th {\n",
       "        text-align: right;\n",
       "    }\n",
       "</style>\n",
       "<table border=\"1\" class=\"dataframe\">\n",
       "  <thead>\n",
       "    <tr style=\"text-align: right;\">\n",
       "      <th></th>\n",
       "      <th>listing_id</th>\n",
       "      <th>mean</th>\n",
       "    </tr>\n",
       "  </thead>\n",
       "  <tbody>\n",
       "    <tr>\n",
       "      <th>0</th>\n",
       "      <td>3353</td>\n",
       "      <td>0.941176</td>\n",
       "    </tr>\n",
       "    <tr>\n",
       "      <th>1</th>\n",
       "      <td>5506</td>\n",
       "      <td>0.972222</td>\n",
       "    </tr>\n",
       "    <tr>\n",
       "      <th>2</th>\n",
       "      <td>6695</td>\n",
       "      <td>1.000000</td>\n",
       "    </tr>\n",
       "    <tr>\n",
       "      <th>3</th>\n",
       "      <td>6976</td>\n",
       "      <td>0.975610</td>\n",
       "    </tr>\n",
       "    <tr>\n",
       "      <th>4</th>\n",
       "      <td>8792</td>\n",
       "      <td>1.000000</td>\n",
       "    </tr>\n",
       "  </tbody>\n",
       "</table>\n",
       "</div>"
      ],
      "text/plain": [
       "   listing_id      mean\n",
       "0        3353  0.941176\n",
       "1        5506  0.972222\n",
       "2        6695  1.000000\n",
       "3        6976  0.975610\n",
       "4        8792  1.000000"
      ]
     },
     "execution_count": 35,
     "metadata": {},
     "output_type": "execute_result"
    }
   ],
   "source": [
    "boston_reviews_avg_review_sentiment.head()"
   ]
  },
  {
   "cell_type": "code",
   "execution_count": null,
   "metadata": {},
   "outputs": [],
   "source": [
    "boston_reviews_avg_review_sentiment = boston_reviews_avg_review_sentiment.rename(columns={\"mean\": \"sentiment_avg\"})\n",
    "bosting_listings_review_senti = pd.merge(boston_listings_df, boston_reviews_avg_review_sentiment, left_on=\"id\", right_on=\"listing_id\", how=\"left\", sort=False)"
   ]
  },
  {
   "cell_type": "code",
   "execution_count": null,
   "metadata": {},
   "outputs": [
    {
     "data": {
      "text/html": [
       "<div>\n",
       "<style scoped>\n",
       "    .dataframe tbody tr th:only-of-type {\n",
       "        vertical-align: middle;\n",
       "    }\n",
       "\n",
       "    .dataframe tbody tr th {\n",
       "        vertical-align: top;\n",
       "    }\n",
       "\n",
       "    .dataframe thead th {\n",
       "        text-align: right;\n",
       "    }\n",
       "</style>\n",
       "<table border=\"1\" class=\"dataframe\">\n",
       "  <thead>\n",
       "    <tr style=\"text-align: right;\">\n",
       "      <th></th>\n",
       "      <th>host_is_superhost</th>\n",
       "      <th>mean</th>\n",
       "    </tr>\n",
       "  </thead>\n",
       "  <tbody>\n",
       "    <tr>\n",
       "      <th>0</th>\n",
       "      <td>f</td>\n",
       "      <td>0.889271</td>\n",
       "    </tr>\n",
       "    <tr>\n",
       "      <th>1</th>\n",
       "      <td>t</td>\n",
       "      <td>0.988113</td>\n",
       "    </tr>\n",
       "  </tbody>\n",
       "</table>\n",
       "</div>"
      ],
      "text/plain": [
       "  host_is_superhost      mean\n",
       "0                 f  0.889271\n",
       "1                 t  0.988113"
      ]
     },
     "execution_count": 37,
     "metadata": {},
     "output_type": "execute_result"
    }
   ],
   "source": [
    "bosting_listings_review_senti_super_host_senti =  bosting_listings_review_senti.groupby(\"host_is_superhost\")[\"sentiment_avg\"].agg([\"mean\"]).reset_index()\n",
    "bosting_listings_review_senti_super_host_senti.head()"
   ]
  },
  {
   "cell_type": "code",
   "execution_count": null,
   "metadata": {},
   "outputs": [
    {
     "data": {
      "text/plain": [
       "<AxesSubplot:title={'center':'Average positive reviews per host type'}, xlabel='host_is_superhost'>"
      ]
     },
     "execution_count": 38,
     "metadata": {},
     "output_type": "execute_result"
    },
    {
     "data": {
      "image/png": "[encoded data removed]",
      "text/plain": [
       "<Figure size 432x288 with 1 Axes>"
      ]
     },
     "metadata": {
      "needs_background": "light"
     },
     "output_type": "display_data"
    }
   ],
   "source": [
    "# Super hosts are less likely to have reviews with negative sentiments vs regular hosts\n",
    "bosting_listings_review_senti_super_host_senti.plot(x='host_is_superhost', y='mean',kind=\"bar\", title = 'Average positive reviews per host type')"
   ]
  },
  {
   "cell_type": "markdown",
   "metadata": {},
   "source": [
    "### Can we predict listing price? What are the main factors influencing a listing price?"
   ]
  },
  {
   "cell_type": "code",
   "execution_count": null,
   "metadata": {},
   "outputs": [],
   "source": [
    "bosting_listings_review_senti['price'] = bosting_listings_review_senti['price'].str.replace('$','')\n",
    "bosting_listings_review_senti['price'] = bosting_listings_review_senti['price'].str.replace(',','')\n",
    "bosting_listings_review_senti['price'] = pd.to_numeric(bosting_listings_review_senti['price'])"
   ]
  },
  {
   "cell_type": "code",
   "execution_count": null,
   "metadata": {},
   "outputs": [
    {
     "data": {
      "text/plain": [
       "count    3585.000000\n",
       "mean      173.925802\n",
       "std       148.331321\n",
       "min        10.000000\n",
       "25%        85.000000\n",
       "50%       150.000000\n",
       "75%       220.000000\n",
       "max      4000.000000\n",
       "Name: price, dtype: float64"
      ]
     },
     "execution_count": 40,
     "metadata": {},
     "output_type": "execute_result"
    }
   ],
   "source": [
    "bosting_listings_review_senti['price'].describe()"
   ]
  },
  {
   "cell_type": "code",
   "execution_count": null,
   "metadata": {},
   "outputs": [
    {
     "data": {
      "text/html": [
       "<div>\n",
       "<style scoped>\n",
       "    .dataframe tbody tr th:only-of-type {\n",
       "        vertical-align: middle;\n",
       "    }\n",
       "\n",
       "    .dataframe tbody tr th {\n",
       "        vertical-align: top;\n",
       "    }\n",
       "\n",
       "    .dataframe thead th {\n",
       "        text-align: right;\n",
       "    }\n",
       "</style>\n",
       "<table border=\"1\" class=\"dataframe\">\n",
       "  <thead>\n",
       "    <tr style=\"text-align: right;\">\n",
       "      <th></th>\n",
       "      <th>id</th>\n",
       "      <th>listing_url</th>\n",
       "      <th>scrape_id</th>\n",
       "      <th>last_scraped</th>\n",
       "      <th>name</th>\n",
       "      <th>summary</th>\n",
       "      <th>space</th>\n",
       "      <th>description</th>\n",
       "      <th>experiences_offered</th>\n",
       "      <th>neighborhood_overview</th>\n",
       "      <th>...</th>\n",
       "      <th>jurisdiction_names</th>\n",
       "      <th>instant_bookable</th>\n",
       "      <th>cancellation_policy</th>\n",
       "      <th>require_guest_profile_picture</th>\n",
       "      <th>require_guest_phone_verification</th>\n",
       "      <th>calculated_host_listings_count</th>\n",
       "      <th>reviews_per_month</th>\n",
       "      <th>neighborhood_overview_senti_value</th>\n",
       "      <th>listing_id</th>\n",
       "      <th>sentiment_avg</th>\n",
       "    </tr>\n",
       "  </thead>\n",
       "  <tbody>\n",
       "    <tr>\n",
       "      <th>0</th>\n",
       "      <td>12147973</td>\n",
       "      <td>https://www.airbnb.com/rooms/12147973</td>\n",
       "      <td>20160906204935</td>\n",
       "      <td>2016-09-07</td>\n",
       "      <td>Sunny Bungalow in the City</td>\n",
       "      <td>Cozy, sunny, family home.  Master bedroom high...</td>\n",
       "      <td>The house has an open and cozy feel at the sam...</td>\n",
       "      <td>Cozy, sunny, family home.  Master bedroom high...</td>\n",
       "      <td>none</td>\n",
       "      <td>Roslindale is quiet, convenient and friendly. ...</td>\n",
       "      <td>...</td>\n",
       "      <td>NaN</td>\n",
       "      <td>f</td>\n",
       "      <td>moderate</td>\n",
       "      <td>f</td>\n",
       "      <td>f</td>\n",
       "      <td>1</td>\n",
       "      <td>NaN</td>\n",
       "      <td>POSITIVE</td>\n",
       "      <td>NaN</td>\n",
       "      <td>NaN</td>\n",
       "    </tr>\n",
       "    <tr>\n",
       "      <th>1</th>\n",
       "      <td>3075044</td>\n",
       "      <td>https://www.airbnb.com/rooms/3075044</td>\n",
       "      <td>20160906204935</td>\n",
       "      <td>2016-09-07</td>\n",
       "      <td>Charming room in pet friendly apt</td>\n",
       "      <td>Charming and quiet room in a second floor 1910...</td>\n",
       "      <td>Small but cozy and quite room with a full size...</td>\n",
       "      <td>Charming and quiet room in a second floor 1910...</td>\n",
       "      <td>none</td>\n",
       "      <td>The room is in Roslindale, a diverse and prima...</td>\n",
       "      <td>...</td>\n",
       "      <td>NaN</td>\n",
       "      <td>t</td>\n",
       "      <td>moderate</td>\n",
       "      <td>f</td>\n",
       "      <td>f</td>\n",
       "      <td>1</td>\n",
       "      <td>1.30</td>\n",
       "      <td>POSITIVE</td>\n",
       "      <td>3075044.0</td>\n",
       "      <td>0.944444</td>\n",
       "    </tr>\n",
       "    <tr>\n",
       "      <th>2</th>\n",
       "      <td>6976</td>\n",
       "      <td>https://www.airbnb.com/rooms/6976</td>\n",
       "      <td>20160906204935</td>\n",
       "      <td>2016-09-07</td>\n",
       "      <td>Mexican Folk Art Haven in Boston</td>\n",
       "      <td>Come stay with a friendly, middle-aged guy in ...</td>\n",
       "      <td>Come stay with a friendly, middle-aged guy in ...</td>\n",
       "      <td>Come stay with a friendly, middle-aged guy in ...</td>\n",
       "      <td>none</td>\n",
       "      <td>The LOCATION: Roslindale is a safe and diverse...</td>\n",
       "      <td>...</td>\n",
       "      <td>NaN</td>\n",
       "      <td>f</td>\n",
       "      <td>moderate</td>\n",
       "      <td>t</td>\n",
       "      <td>f</td>\n",
       "      <td>1</td>\n",
       "      <td>0.47</td>\n",
       "      <td>POSITIVE</td>\n",
       "      <td>6976.0</td>\n",
       "      <td>0.975610</td>\n",
       "    </tr>\n",
       "    <tr>\n",
       "      <th>3</th>\n",
       "      <td>1436513</td>\n",
       "      <td>https://www.airbnb.com/rooms/1436513</td>\n",
       "      <td>20160906204935</td>\n",
       "      <td>2016-09-07</td>\n",
       "      <td>Spacious Sunny Bedroom Suite in Historic Home</td>\n",
       "      <td>Come experience the comforts of home away from...</td>\n",
       "      <td>Most places you find in Boston are small howev...</td>\n",
       "      <td>Come experience the comforts of home away from...</td>\n",
       "      <td>none</td>\n",
       "      <td>Roslindale is a lovely little neighborhood loc...</td>\n",
       "      <td>...</td>\n",
       "      <td>NaN</td>\n",
       "      <td>f</td>\n",
       "      <td>moderate</td>\n",
       "      <td>f</td>\n",
       "      <td>f</td>\n",
       "      <td>1</td>\n",
       "      <td>1.00</td>\n",
       "      <td>POSITIVE</td>\n",
       "      <td>1436513.0</td>\n",
       "      <td>1.000000</td>\n",
       "    </tr>\n",
       "    <tr>\n",
       "      <th>4</th>\n",
       "      <td>7651065</td>\n",
       "      <td>https://www.airbnb.com/rooms/7651065</td>\n",
       "      <td>20160906204935</td>\n",
       "      <td>2016-09-07</td>\n",
       "      <td>Come Home to Boston</td>\n",
       "      <td>My comfy, clean and relaxing home is one block...</td>\n",
       "      <td>Clean, attractive, private room, one block fro...</td>\n",
       "      <td>My comfy, clean and relaxing home is one block...</td>\n",
       "      <td>none</td>\n",
       "      <td>I love the proximity to downtown, the neighbor...</td>\n",
       "      <td>...</td>\n",
       "      <td>NaN</td>\n",
       "      <td>f</td>\n",
       "      <td>flexible</td>\n",
       "      <td>f</td>\n",
       "      <td>f</td>\n",
       "      <td>1</td>\n",
       "      <td>2.25</td>\n",
       "      <td>POSITIVE</td>\n",
       "      <td>7651065.0</td>\n",
       "      <td>1.000000</td>\n",
       "    </tr>\n",
       "  </tbody>\n",
       "</table>\n",
       "<p>5 rows × 98 columns</p>\n",
       "</div>"
      ],
      "text/plain": [
       "         id                            listing_url       scrape_id  \\\n",
       "0  12147973  https://www.airbnb.com/rooms/12147973  20160906204935   \n",
       "1   3075044   https://www.airbnb.com/rooms/3075044  20160906204935   \n",
       "2      6976      https://www.airbnb.com/rooms/6976  20160906204935   \n",
       "3   1436513   https://www.airbnb.com/rooms/1436513  20160906204935   \n",
       "4   7651065   https://www.airbnb.com/rooms/7651065  20160906204935   \n",
       "\n",
       "  last_scraped                                           name  \\\n",
       "0   2016-09-07                     Sunny Bungalow in the City   \n",
       "1   2016-09-07              Charming room in pet friendly apt   \n",
       "2   2016-09-07               Mexican Folk Art Haven in Boston   \n",
       "3   2016-09-07  Spacious Sunny Bedroom Suite in Historic Home   \n",
       "4   2016-09-07                            Come Home to Boston   \n",
       "\n",
       "                                             summary  \\\n",
       "0  Cozy, sunny, family home.  Master bedroom high...   \n",
       "1  Charming and quiet room in a second floor 1910...   \n",
       "2  Come stay with a friendly, middle-aged guy in ...   \n",
       "3  Come experience the comforts of home away from...   \n",
       "4  My comfy, clean and relaxing home is one block...   \n",
       "\n",
       "                                               space  \\\n",
       "0  The house has an open and cozy feel at the sam...   \n",
       "1  Small but cozy and quite room with a full size...   \n",
       "2  Come stay with a friendly, middle-aged guy in ...   \n",
       "3  Most places you find in Boston are small howev...   \n",
       "4  Clean, attractive, private room, one block fro...   \n",
       "\n",
       "                                         description experiences_offered  \\\n",
       "0  Cozy, sunny, family home.  Master bedroom high...                none   \n",
       "1  Charming and quiet room in a second floor 1910...                none   \n",
       "2  Come stay with a friendly, middle-aged guy in ...                none   \n",
       "3  Come experience the comforts of home away from...                none   \n",
       "4  My comfy, clean and relaxing home is one block...                none   \n",
       "\n",
       "                               neighborhood_overview  ... jurisdiction_names  \\\n",
       "0  Roslindale is quiet, convenient and friendly. ...  ...                NaN   \n",
       "1  The room is in Roslindale, a diverse and prima...  ...                NaN   \n",
       "2  The LOCATION: Roslindale is a safe and diverse...  ...                NaN   \n",
       "3  Roslindale is a lovely little neighborhood loc...  ...                NaN   \n",
       "4  I love the proximity to downtown, the neighbor...  ...                NaN   \n",
       "\n",
       "  instant_bookable cancellation_policy require_guest_profile_picture  \\\n",
       "0                f            moderate                             f   \n",
       "1                t            moderate                             f   \n",
       "2                f            moderate                             t   \n",
       "3                f            moderate                             f   \n",
       "4                f            flexible                             f   \n",
       "\n",
       "  require_guest_phone_verification calculated_host_listings_count  \\\n",
       "0                                f                              1   \n",
       "1                                f                              1   \n",
       "2                                f                              1   \n",
       "3                                f                              1   \n",
       "4                                f                              1   \n",
       "\n",
       "  reviews_per_month neighborhood_overview_senti_value listing_id  \\\n",
       "0               NaN                          POSITIVE        NaN   \n",
       "1              1.30                          POSITIVE  3075044.0   \n",
       "2              0.47                          POSITIVE     6976.0   \n",
       "3              1.00                          POSITIVE  1436513.0   \n",
       "4              2.25                          POSITIVE  7651065.0   \n",
       "\n",
       "   sentiment_avg  \n",
       "0            NaN  \n",
       "1       0.944444  \n",
       "2       0.975610  \n",
       "3       1.000000  \n",
       "4       1.000000  \n",
       "\n",
       "[5 rows x 98 columns]"
      ]
     },
     "execution_count": 41,
     "metadata": {},
     "output_type": "execute_result"
    }
   ],
   "source": [
    "bosting_listings_review_senti.head()"
   ]
  },
  {
   "cell_type": "code",
   "execution_count": null,
   "metadata": {},
   "outputs": [
    {
     "data": {
      "text/plain": [
       "Index(['id', 'listing_url', 'scrape_id', 'last_scraped', 'name', 'summary',\n",
       "       'space', 'description', 'experiences_offered', 'neighborhood_overview',\n",
       "       'notes', 'transit', 'access', 'interaction', 'house_rules',\n",
       "       'thumbnail_url', 'medium_url', 'picture_url', 'xl_picture_url',\n",
       "       'host_id', 'host_url', 'host_name', 'host_since', 'host_location',\n",
       "       'host_about', 'host_response_time', 'host_response_rate',\n",
       "       'host_acceptance_rate', 'host_is_superhost', 'host_thumbnail_url',\n",
       "       'host_picture_url', 'host_neighbourhood', 'host_listings_count',\n",
       "       'host_total_listings_count', 'host_verifications',\n",
       "       'host_has_profile_pic', 'host_identity_verified', 'street',\n",
       "       'neighbourhood', 'neighbourhood_cleansed',\n",
       "       'neighbourhood_group_cleansed', 'city', 'state', 'zipcode', 'market',\n",
       "       'smart_location', 'country_code', 'country', 'latitude', 'longitude',\n",
       "       'is_location_exact', 'property_type', 'room_type', 'accommodates',\n",
       "       'bathrooms', 'bedrooms', 'beds', 'bed_type', 'amenities', 'square_feet',\n",
       "       'price', 'weekly_price', 'monthly_price', 'security_deposit',\n",
       "       'cleaning_fee', 'guests_included', 'extra_people', 'minimum_nights',\n",
       "       'maximum_nights', 'calendar_updated', 'has_availability',\n",
       "       'availability_30', 'availability_60', 'availability_90',\n",
       "       'availability_365', 'calendar_last_scraped', 'number_of_reviews',\n",
       "       'first_review', 'last_review', 'review_scores_rating',\n",
       "       'review_scores_accuracy', 'review_scores_cleanliness',\n",
       "       'review_scores_checkin', 'review_scores_communication',\n",
       "       'review_scores_location', 'review_scores_value', 'requires_license',\n",
       "       'license', 'jurisdiction_names', 'instant_bookable',\n",
       "       'cancellation_policy', 'require_guest_profile_picture',\n",
       "       'require_guest_phone_verification', 'calculated_host_listings_count',\n",
       "       'reviews_per_month', 'neighborhood_overview_senti_value', 'listing_id',\n",
       "       'sentiment_avg'],\n",
       "      dtype='object')"
      ]
     },
     "execution_count": 42,
     "metadata": {},
     "output_type": "execute_result"
    }
   ],
   "source": [
    "bosting_listings_review_senti.columns"
   ]
  },
  {
   "cell_type": "markdown",
   "metadata": {},
   "source": [
    "#### Converting variables from string to numeric by removing dolalr signs and commas. As ML algorithms can better understand numerical data"
   ]
  },
  {
   "cell_type": "code",
   "execution_count": null,
   "metadata": {},
   "outputs": [],
   "source": [
    "bosting_listings_review_senti['host_response_rate'] = bosting_listings_review_senti['host_response_rate'].str.replace('%','')\n",
    "bosting_listings_review_senti['host_response_rate'] = pd.to_numeric(bosting_listings_review_senti['host_response_rate'])"
   ]
  },
  {
   "cell_type": "code",
   "execution_count": null,
   "metadata": {},
   "outputs": [],
   "source": [
    "bosting_listings_review_senti['host_acceptance_rate'] = bosting_listings_review_senti['host_acceptance_rate'].str.replace('%','')\n",
    "bosting_listings_review_senti['host_acceptance_rate'] = pd.to_numeric(bosting_listings_review_senti['host_acceptance_rate'])"
   ]
  },
  {
   "cell_type": "code",
   "execution_count": null,
   "metadata": {},
   "outputs": [
    {
     "data": {
      "text/plain": [
       "POSITIVE    2148\n",
       "NEGATIVE      22\n",
       "Name: neighborhood_overview_senti_value, dtype: int64"
      ]
     },
     "execution_count": 45,
     "metadata": {},
     "output_type": "execute_result"
    }
   ],
   "source": [
    "bosting_listings_review_senti['neighborhood_overview_senti_value'].value_counts()"
   ]
  },
  {
   "cell_type": "markdown",
   "metadata": {},
   "source": [
    "#### Hand picking the top candidates variable to use in the model first iteration\n",
    "#### There is more advanced techniques to do feature selection that could be applied in future iterations"
   ]
  },
  {
   "cell_type": "markdown",
   "metadata": {},
   "source": [
    "#### Using Pandas get_dummies function with dummy_na = True to 1-hot encode categorical variablesto be able to be used in ML"
   ]
  },
  {
   "cell_type": "code",
   "execution_count": null,
   "metadata": {},
   "outputs": [
    {
     "name": "stdout",
     "output_type": "stream",
     "text": [
      "(3585, 26)\n",
      "(3585, 88)\n"
     ]
    }
   ],
   "source": [
    "X = bosting_listings_review_senti[['host_response_time', 'host_response_rate', 'host_acceptance_rate','host_is_superhost',\n",
    "                               'neighbourhood_cleansed', 'host_identity_verified','property_type', 'room_type',\n",
    "                               'accommodates', 'bathrooms', 'beds', 'bed_type', 'square_feet', 'number_of_reviews',\n",
    "                              'review_scores_rating', 'review_scores_accuracy', 'review_scores_cleanliness',\n",
    "                              'review_scores_checkin', 'review_scores_communication', 'review_scores_location',\n",
    "                              'review_scores_value', 'instant_bookable', 'cancellation_policy', 'reviews_per_month', 'neighborhood_overview_senti_value', 'sentiment_avg']]\n",
    "print(X.shape)\n",
    "X = pd.get_dummies(X, dummy_na=True)\n",
    "print(X.shape)\n",
    "y = bosting_listings_review_senti['price']"
   ]
  },
  {
   "cell_type": "code",
   "execution_count": null,
   "metadata": {},
   "outputs": [],
   "source": [
    "X_train, X_test, y_train, y_test = train_test_split(X, y, test_size=0.33, random_state=123)"
   ]
  },
  {
   "cell_type": "code",
   "execution_count": null,
   "metadata": {},
   "outputs": [],
   "source": [
    "dtrain = xgb.DMatrix(X_train, label=y_train)\n",
    "dtest = xgb.DMatrix(X_test, label=y_test)"
   ]
  },
  {
   "cell_type": "code",
   "execution_count": null,
   "metadata": {},
   "outputs": [],
   "source": [
    "param = {'max_depth': 6, 'eta': 0.3, 'objective': 'reg:squarederror'}\n",
    "param['nthread'] = 32\n",
    "param['eval_metric'] = 'rmse'"
   ]
  },
  {
   "cell_type": "code",
   "execution_count": null,
   "metadata": {},
   "outputs": [],
   "source": [
    "evallist = [(dtrain, 'train')]"
   ]
  },
  {
   "cell_type": "markdown",
   "metadata": {},
   "source": [
    "#### Training a XGBoost model with almost default parameters.\n",
    "#### XGBoost is chosen for it is ability to deal with missing data through learning a default path, scalability, feature importance and reliable performance in similar problems"
   ]
  },
  {
   "cell_type": "code",
   "execution_count": null,
   "metadata": {
    "collapsed": true,
    "jupyter": {
     "outputs_hidden": true
    }
   },
   "outputs": [
    {
     "name": "stdout",
     "output_type": "stream",
     "text": [
      "[0]\ttrain-rmse:185.01393\n",
      "[1]\ttrain-rmse:153.97221\n",
      "[2]\ttrain-rmse:134.54086\n",
      "[3]\ttrain-rmse:119.57508\n",
      "[4]\ttrain-rmse:110.95979\n",
      "[5]\ttrain-rmse:105.75976\n",
      "[6]\ttrain-rmse:102.12614\n",
      "[7]\ttrain-rmse:97.01290\n",
      "[8]\ttrain-rmse:95.15301\n",
      "[9]\ttrain-rmse:93.45530\n",
      "[10]\ttrain-rmse:92.08857\n",
      "[11]\ttrain-rmse:86.63902\n",
      "[12]\ttrain-rmse:86.24725\n",
      "[13]\ttrain-rmse:85.01826\n",
      "[14]\ttrain-rmse:84.60593\n",
      "[15]\ttrain-rmse:84.21934\n",
      "[16]\ttrain-rmse:83.91897\n",
      "[17]\ttrain-rmse:83.40620\n",
      "[18]\ttrain-rmse:82.33285\n",
      "[19]\ttrain-rmse:81.29102\n",
      "[20]\ttrain-rmse:80.82272\n",
      "[21]\ttrain-rmse:80.46346\n",
      "[22]\ttrain-rmse:80.29414\n",
      "[23]\ttrain-rmse:80.01276\n",
      "[24]\ttrain-rmse:79.55309\n",
      "[25]\ttrain-rmse:77.02558\n",
      "[26]\ttrain-rmse:76.67838\n",
      "[27]\ttrain-rmse:76.28838\n",
      "[28]\ttrain-rmse:76.14771\n",
      "[29]\ttrain-rmse:75.92512\n",
      "[30]\ttrain-rmse:75.80630\n",
      "[31]\ttrain-rmse:73.27773\n",
      "[32]\ttrain-rmse:72.60247\n",
      "[33]\ttrain-rmse:72.34647\n",
      "[34]\ttrain-rmse:72.27479\n",
      "[35]\ttrain-rmse:71.86921\n",
      "[36]\ttrain-rmse:71.83295\n",
      "[37]\ttrain-rmse:71.38177\n",
      "[38]\ttrain-rmse:70.98111\n",
      "[39]\ttrain-rmse:70.43744\n",
      "[40]\ttrain-rmse:70.18160\n",
      "[41]\ttrain-rmse:70.09328\n",
      "[42]\ttrain-rmse:69.82780\n",
      "[43]\ttrain-rmse:69.71469\n",
      "[44]\ttrain-rmse:69.59295\n",
      "[45]\ttrain-rmse:69.39123\n",
      "[46]\ttrain-rmse:69.31209\n",
      "[47]\ttrain-rmse:68.00439\n",
      "[48]\ttrain-rmse:67.82793\n",
      "[49]\ttrain-rmse:67.78144\n",
      "[50]\ttrain-rmse:67.66999\n",
      "[51]\ttrain-rmse:67.19945\n",
      "[52]\ttrain-rmse:67.09435\n",
      "[53]\ttrain-rmse:66.77378\n",
      "[54]\ttrain-rmse:66.72910\n",
      "[55]\ttrain-rmse:66.70345\n",
      "[56]\ttrain-rmse:66.40076\n",
      "[57]\ttrain-rmse:66.22018\n",
      "[58]\ttrain-rmse:66.16077\n",
      "[59]\ttrain-rmse:65.73277\n",
      "[60]\ttrain-rmse:65.64603\n",
      "[61]\ttrain-rmse:65.49531\n",
      "[62]\ttrain-rmse:65.28400\n",
      "[63]\ttrain-rmse:65.11562\n",
      "[64]\ttrain-rmse:64.95250\n",
      "[65]\ttrain-rmse:60.49314\n",
      "[66]\ttrain-rmse:57.16462\n",
      "[67]\ttrain-rmse:57.02649\n",
      "[68]\ttrain-rmse:56.94577\n",
      "[69]\ttrain-rmse:56.83981\n",
      "[70]\ttrain-rmse:56.68125\n",
      "[71]\ttrain-rmse:56.55775\n",
      "[72]\ttrain-rmse:56.29538\n",
      "[73]\ttrain-rmse:56.14901\n",
      "[74]\ttrain-rmse:56.09146\n",
      "[75]\ttrain-rmse:55.53831\n",
      "[76]\ttrain-rmse:55.43726\n",
      "[77]\ttrain-rmse:55.41702\n",
      "[78]\ttrain-rmse:55.23756\n",
      "[79]\ttrain-rmse:55.20760\n",
      "[80]\ttrain-rmse:55.10528\n",
      "[81]\ttrain-rmse:55.01143\n",
      "[82]\ttrain-rmse:54.89870\n",
      "[83]\ttrain-rmse:54.71643\n",
      "[84]\ttrain-rmse:54.70738\n",
      "[85]\ttrain-rmse:54.69055\n",
      "[86]\ttrain-rmse:54.42051\n",
      "[87]\ttrain-rmse:54.39962\n",
      "[88]\ttrain-rmse:54.32520\n",
      "[89]\ttrain-rmse:54.28357\n",
      "[90]\ttrain-rmse:54.21332\n",
      "[91]\ttrain-rmse:53.49010\n",
      "[92]\ttrain-rmse:53.04499\n",
      "[93]\ttrain-rmse:52.99092\n",
      "[94]\ttrain-rmse:52.82313\n",
      "[95]\ttrain-rmse:52.71090\n",
      "[96]\ttrain-rmse:52.44287\n",
      "[97]\ttrain-rmse:52.40514\n",
      "[98]\ttrain-rmse:52.25360\n",
      "[99]\ttrain-rmse:52.21939\n",
      "[100]\ttrain-rmse:52.15628\n",
      "[101]\ttrain-rmse:52.11666\n",
      "[102]\ttrain-rmse:52.03249\n",
      "[103]\ttrain-rmse:49.58669\n",
      "[104]\ttrain-rmse:49.52573\n",
      "[105]\ttrain-rmse:49.43317\n",
      "[106]\ttrain-rmse:49.31448\n",
      "[107]\ttrain-rmse:49.25248\n",
      "[108]\ttrain-rmse:48.59557\n",
      "[109]\ttrain-rmse:48.57160\n",
      "[110]\ttrain-rmse:48.55524\n",
      "[111]\ttrain-rmse:48.51429\n",
      "[112]\ttrain-rmse:48.39027\n",
      "[113]\ttrain-rmse:48.29121\n",
      "[114]\ttrain-rmse:48.28056\n",
      "[115]\ttrain-rmse:47.97435\n",
      "[116]\ttrain-rmse:47.93166\n",
      "[117]\ttrain-rmse:47.92488\n",
      "[118]\ttrain-rmse:47.83033\n",
      "[119]\ttrain-rmse:47.05347\n",
      "[120]\ttrain-rmse:46.91275\n",
      "[121]\ttrain-rmse:46.86673\n",
      "[122]\ttrain-rmse:46.38244\n",
      "[123]\ttrain-rmse:45.79858\n",
      "[124]\ttrain-rmse:44.79016\n",
      "[125]\ttrain-rmse:44.70742\n",
      "[126]\ttrain-rmse:44.58731\n",
      "[127]\ttrain-rmse:44.57648\n",
      "[128]\ttrain-rmse:43.84534\n",
      "[129]\ttrain-rmse:43.80542\n",
      "[130]\ttrain-rmse:43.75599\n",
      "[131]\ttrain-rmse:43.54016\n",
      "[132]\ttrain-rmse:43.48152\n",
      "[133]\ttrain-rmse:43.39021\n",
      "[134]\ttrain-rmse:43.30360\n",
      "[135]\ttrain-rmse:43.29445\n",
      "[136]\ttrain-rmse:43.27904\n",
      "[137]\ttrain-rmse:43.26105\n",
      "[138]\ttrain-rmse:43.22872\n",
      "[139]\ttrain-rmse:43.22004\n",
      "[140]\ttrain-rmse:43.20985\n",
      "[141]\ttrain-rmse:43.14136\n",
      "[142]\ttrain-rmse:43.11868\n",
      "[143]\ttrain-rmse:43.11129\n",
      "[144]\ttrain-rmse:43.07550\n",
      "[145]\ttrain-rmse:43.04606\n",
      "[146]\ttrain-rmse:43.01908\n",
      "[147]\ttrain-rmse:43.00474\n",
      "[148]\ttrain-rmse:42.95037\n",
      "[149]\ttrain-rmse:42.93776\n",
      "[150]\ttrain-rmse:42.89422\n",
      "[151]\ttrain-rmse:42.83775\n",
      "[152]\ttrain-rmse:42.79235\n",
      "[153]\ttrain-rmse:42.77964\n",
      "[154]\ttrain-rmse:42.76286\n",
      "[155]\ttrain-rmse:42.73474\n",
      "[156]\ttrain-rmse:42.72319\n",
      "[157]\ttrain-rmse:42.35981\n",
      "[158]\ttrain-rmse:42.31539\n",
      "[159]\ttrain-rmse:42.27291\n",
      "[160]\ttrain-rmse:42.24694\n",
      "[161]\ttrain-rmse:42.15826\n",
      "[162]\ttrain-rmse:42.12297\n",
      "[163]\ttrain-rmse:42.10836\n",
      "[164]\ttrain-rmse:42.09021\n",
      "[165]\ttrain-rmse:42.08292\n",
      "[166]\ttrain-rmse:42.04295\n",
      "[167]\ttrain-rmse:42.02799\n",
      "[168]\ttrain-rmse:42.01139\n",
      "[169]\ttrain-rmse:41.98942\n",
      "[170]\ttrain-rmse:41.97127\n",
      "[171]\ttrain-rmse:41.95662\n",
      "[172]\ttrain-rmse:41.95431\n",
      "[173]\ttrain-rmse:41.93798\n",
      "[174]\ttrain-rmse:41.89808\n",
      "[175]\ttrain-rmse:41.85134\n",
      "[176]\ttrain-rmse:41.78507\n",
      "[177]\ttrain-rmse:41.78027\n",
      "[178]\ttrain-rmse:41.74412\n",
      "[179]\ttrain-rmse:41.71726\n",
      "[180]\ttrain-rmse:41.31182\n",
      "[181]\ttrain-rmse:41.29639\n",
      "[182]\ttrain-rmse:41.25885\n",
      "[183]\ttrain-rmse:41.25623\n",
      "[184]\ttrain-rmse:41.24904\n",
      "[185]\ttrain-rmse:41.24431\n",
      "[186]\ttrain-rmse:41.21915\n",
      "[187]\ttrain-rmse:41.19843\n",
      "[188]\ttrain-rmse:41.19386\n",
      "[189]\ttrain-rmse:41.17257\n",
      "[190]\ttrain-rmse:41.15771\n",
      "[191]\ttrain-rmse:41.14550\n",
      "[192]\ttrain-rmse:41.12276\n",
      "[193]\ttrain-rmse:41.11976\n",
      "[194]\ttrain-rmse:41.07503\n",
      "[195]\ttrain-rmse:41.06702\n",
      "[196]\ttrain-rmse:41.06298\n",
      "[197]\ttrain-rmse:41.02031\n",
      "[198]\ttrain-rmse:40.98073\n",
      "[199]\ttrain-rmse:40.96476\n",
      "[200]\ttrain-rmse:40.95617\n",
      "[201]\ttrain-rmse:40.93599\n",
      "[202]\ttrain-rmse:40.93531\n",
      "[203]\ttrain-rmse:40.92597\n",
      "[204]\ttrain-rmse:40.92299\n",
      "[205]\ttrain-rmse:40.90517\n",
      "[206]\ttrain-rmse:40.89270\n",
      "[207]\ttrain-rmse:40.82065\n",
      "[208]\ttrain-rmse:40.81453\n",
      "[209]\ttrain-rmse:40.80965\n",
      "[210]\ttrain-rmse:40.79844\n",
      "[211]\ttrain-rmse:40.79554\n",
      "[212]\ttrain-rmse:40.79124\n",
      "[213]\ttrain-rmse:40.77171\n",
      "[214]\ttrain-rmse:40.74312\n",
      "[215]\ttrain-rmse:40.72842\n",
      "[216]\ttrain-rmse:40.72796\n",
      "[217]\ttrain-rmse:40.72707\n",
      "[218]\ttrain-rmse:40.71355\n",
      "[219]\ttrain-rmse:40.71297\n",
      "[220]\ttrain-rmse:40.69957\n",
      "[221]\ttrain-rmse:40.69548\n",
      "[222]\ttrain-rmse:40.41425\n",
      "[223]\ttrain-rmse:40.40557\n",
      "[224]\ttrain-rmse:40.39642\n",
      "[225]\ttrain-rmse:40.36837\n",
      "[226]\ttrain-rmse:40.17346\n",
      "[227]\ttrain-rmse:40.13563\n",
      "[228]\ttrain-rmse:40.13017\n",
      "[229]\ttrain-rmse:40.12052\n",
      "[230]\ttrain-rmse:40.11283\n",
      "[231]\ttrain-rmse:40.10176\n",
      "[232]\ttrain-rmse:40.09741\n",
      "[233]\ttrain-rmse:40.08633\n",
      "[234]\ttrain-rmse:40.08225\n",
      "[235]\ttrain-rmse:40.05416\n",
      "[236]\ttrain-rmse:40.05233\n",
      "[237]\ttrain-rmse:40.05169\n",
      "[238]\ttrain-rmse:40.04402\n",
      "[239]\ttrain-rmse:40.03984\n",
      "[240]\ttrain-rmse:40.03798\n",
      "[241]\ttrain-rmse:40.02767\n",
      "[242]\ttrain-rmse:40.02053\n",
      "[243]\ttrain-rmse:40.01843\n",
      "[244]\ttrain-rmse:40.01212\n",
      "[245]\ttrain-rmse:39.99118\n",
      "[246]\ttrain-rmse:39.97957\n",
      "[247]\ttrain-rmse:39.95239\n",
      "[248]\ttrain-rmse:39.94192\n",
      "[249]\ttrain-rmse:39.93870\n",
      "[250]\ttrain-rmse:39.93774\n",
      "[251]\ttrain-rmse:39.93309\n",
      "[252]\ttrain-rmse:39.93085\n",
      "[253]\ttrain-rmse:39.92752\n",
      "[254]\ttrain-rmse:39.90890\n",
      "[255]\ttrain-rmse:39.88958\n",
      "[256]\ttrain-rmse:39.74643\n",
      "[257]\ttrain-rmse:39.74354\n",
      "[258]\ttrain-rmse:39.72363\n",
      "[259]\ttrain-rmse:39.71989\n",
      "[260]\ttrain-rmse:39.64339\n",
      "[261]\ttrain-rmse:39.63532\n",
      "[262]\ttrain-rmse:39.62199\n",
      "[263]\ttrain-rmse:39.61881\n",
      "[264]\ttrain-rmse:39.61461\n",
      "[265]\ttrain-rmse:39.61266\n",
      "[266]\ttrain-rmse:39.60550\n",
      "[267]\ttrain-rmse:39.60464\n",
      "[268]\ttrain-rmse:39.60255\n",
      "[269]\ttrain-rmse:39.60012\n",
      "[270]\ttrain-rmse:39.59799\n",
      "[271]\ttrain-rmse:39.59471\n",
      "[272]\ttrain-rmse:39.58750\n",
      "[273]\ttrain-rmse:39.58393\n",
      "[274]\ttrain-rmse:39.57654\n",
      "[275]\ttrain-rmse:39.56852\n",
      "[276]\ttrain-rmse:39.56063\n",
      "[277]\ttrain-rmse:39.55636\n",
      "[278]\ttrain-rmse:39.55350\n",
      "[279]\ttrain-rmse:39.55263\n",
      "[280]\ttrain-rmse:39.54561\n",
      "[281]\ttrain-rmse:39.53011\n",
      "[282]\ttrain-rmse:39.51809\n",
      "[283]\ttrain-rmse:39.51613\n",
      "[284]\ttrain-rmse:39.49692\n",
      "[285]\ttrain-rmse:39.49607\n",
      "[286]\ttrain-rmse:39.49569\n",
      "[287]\ttrain-rmse:39.49310\n",
      "[288]\ttrain-rmse:39.49068\n",
      "[289]\ttrain-rmse:39.48266\n",
      "[290]\ttrain-rmse:39.48084\n",
      "[291]\ttrain-rmse:39.45497\n",
      "[292]\ttrain-rmse:39.45443\n",
      "[293]\ttrain-rmse:39.44796\n",
      "[294]\ttrain-rmse:39.44722\n",
      "[295]\ttrain-rmse:39.44222\n",
      "[296]\ttrain-rmse:39.40991\n",
      "[297]\ttrain-rmse:39.40686\n",
      "[298]\ttrain-rmse:39.38577\n",
      "[299]\ttrain-rmse:39.37087\n"
     ]
    }
   ],
   "source": [
    "num_round = 300\n",
    "bst = xgb.train(param, dtrain, num_round, evallist)"
   ]
  },
  {
   "cell_type": "markdown",
   "metadata": {},
   "source": [
    "#### Create test dataset and predict using trained model"
   ]
  },
  {
   "cell_type": "code",
   "execution_count": null,
   "metadata": {},
   "outputs": [],
   "source": [
    "dtest = xgb.DMatrix(X_test)\n",
    "y_pred = bst.predict(dtest)"
   ]
  },
  {
   "cell_type": "code",
   "execution_count": null,
   "metadata": {},
   "outputs": [
    {
     "data": {
      "text/plain": [
       "3257    118.0\n",
       "2374    169.0\n",
       "3525     55.0\n",
       "569     285.0\n",
       "2054    290.0\n",
       "        ...  \n",
       "3361     90.0\n",
       "1426    169.0\n",
       "498     100.0\n",
       "3105    249.0\n",
       "3499    130.0\n",
       "Name: price, Length: 1184, dtype: float64"
      ]
     },
     "execution_count": 53,
     "metadata": {},
     "output_type": "execute_result"
    }
   ],
   "source": [
    "y_test"
   ]
  },
  {
   "cell_type": "code",
   "execution_count": null,
   "metadata": {},
   "outputs": [
    {
     "data": {
      "text/plain": [
       "array([100.87505 , 210.51944 ,  45.006195, ...,  48.44925 , 187.62566 ,\n",
       "        69.75477 ], dtype=float32)"
      ]
     },
     "execution_count": 54,
     "metadata": {},
     "output_type": "execute_result"
    }
   ],
   "source": [
    "y_pred"
   ]
  },
  {
   "cell_type": "markdown",
   "metadata": {},
   "source": [
    "#### Calculate perdormance metrics such MSE and RMSE"
   ]
  },
  {
   "cell_type": "code",
   "execution_count": null,
   "metadata": {},
   "outputs": [
    {
     "data": {
      "text/plain": [
       "16046.416276821514"
      ]
     },
     "execution_count": 55,
     "metadata": {},
     "output_type": "execute_result"
    }
   ],
   "source": [
    "#MSE\n",
    "mean_squared_error(y_test, y_pred)"
   ]
  },
  {
   "cell_type": "code",
   "execution_count": null,
   "metadata": {},
   "outputs": [
    {
     "data": {
      "text/plain": [
       "126.6744499763923"
      ]
     },
     "execution_count": 56,
     "metadata": {},
     "output_type": "execute_result"
    }
   ],
   "source": [
    "#RMSE\n",
    "mean_squared_error(y_test, y_pred, squared=False)"
   ]
  },
  {
   "cell_type": "markdown",
   "metadata": {},
   "source": [
    "#### While there is room for improvement we can predict with price with decent accuracy\n",
    "#### the number of reviews per month + host response rate seems to contribute heavily to the unit price\n",
    "#### It is likely that more popular and expensive unit get more reivews per month\n",
    "#### The higher the deman the higher the price (potentially)"
   ]
  },
  {
   "cell_type": "code",
   "execution_count": null,
   "metadata": {},
   "outputs": [
    {
     "data": {
      "text/plain": [
       "<AxesSubplot:title={'center':'Feature importance'}, xlabel='F score', ylabel='Features'>"
      ]
     },
     "execution_count": 57,
     "metadata": {},
     "output_type": "execute_result"
    },
    {
     "data": {
      "image/png": "[encoded data removed]",
      "text/plain": [
       "<Figure size 432x288 with 1 Axes>"
      ]
     },
     "metadata": {
      "needs_background": "light"
     },
     "output_type": "display_data"
    }
   ],
   "source": [
    "xgb.plot_importance(bst, max_num_features = 15)"
   ]
  },
  {
   "cell_type": "markdown",
   "metadata": {},
   "source": [
    "## Thank you"
   ]
  },
  {
   "cell_type": "code",
   "execution_count": null,
   "metadata": {},
   "outputs": [],
   "source": []
  }
 ],
 "metadata": {
  "kernelspec": {
   "display_name": "Python 3",
   "language": "python",
   "name": "python3"
  },
  "language_info": {
   "codemirror_mode": {
    "name": "ipython",
    "version": 3
   },
   "file_extension": ".py",
   "mimetype": "text/x-python",
   "name": "python",
   "nbconvert_exporter": "python",
   "pygments_lexer": "ipython3",
   "version": "3.7.9"
  }
 },
 "nbformat": 4,
 "nbformat_minor": 4
}
